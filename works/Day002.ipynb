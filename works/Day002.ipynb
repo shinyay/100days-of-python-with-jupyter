{
 "cells": [
  {
   "cell_type": "markdown",
   "metadata": {},
   "source": [
    "# Day 2\n",
    "Data Structures"
   ]
  },
  {
   "cell_type": "markdown",
   "metadata": {},
   "source": [
    "## List"
   ]
  },
  {
   "cell_type": "code",
   "execution_count": 4,
   "metadata": {},
   "outputs": [
    {
     "name": "stdout",
     "output_type": "stream",
     "text": [
      "['January', 'February', 'March', 'April', 'May', 'June', 'July', 'August', 'September', 'October', 'November', 'December']\n",
      "January\n",
      "December\n",
      "['January', 'February', 'March', 'April']\n"
     ]
    }
   ],
   "source": [
    "## List Basics\n",
    "month = ['January', 'February', 'March', 'April', 'May', 'June', 'July', 'August', 'September', 'October', 'November', 'December']\n",
    "print(month)\n",
    "print(month[0])\n",
    "print(month[11])\n",
    "print(month[0:4])"
   ]
  },
  {
   "cell_type": "code",
   "execution_count": 8,
   "metadata": {},
   "outputs": [
    {
     "name": "stdout",
     "output_type": "stream",
     "text": [
      "[1, 3, 5, 7, 9]\n",
      "[2, 4, 6, 8, 10]\n",
      "[1, 4, 7, 10]\n"
     ]
    }
   ],
   "source": [
    "## Slice\n",
    "number = [1, 2, 3, 4, 5, 6, 7, 8, 9, 10]\n",
    "print(number[::2])\n",
    "print(number[1::2])\n",
    "print(number[::3])"
   ]
  },
  {
   "cell_type": "code",
   "execution_count": 14,
   "metadata": {},
   "outputs": [
    {
     "name": "stdout",
     "output_type": "stream",
     "text": [
      "len: 10\n",
      "type: <class 'list'>\n",
      "lsit ['A', 'B', 'C', 'D', 'E', 'F', 'G']\n"
     ]
    }
   ],
   "source": [
    "## List and Functions\n",
    "print('len:', len(number))\n",
    "print('type:', type(number))\n",
    "print('list', list('ABCDEFG'))"
   ]
  },
  {
   "cell_type": "code",
   "execution_count": 15,
   "metadata": {},
   "outputs": [
    {
     "name": "stdout",
     "output_type": "stream",
     "text": [
      "[[1, 3, 5, 7, 9], [2, 4, 6, 8, 10]]\n"
     ]
    }
   ],
   "source": [
    "## List nesting\n",
    "odd = [1, 3, 5, 7, 9]\n",
    "even = [2, 4, 6, 8, 10]\n",
    "num_list = [odd, even]\n",
    "print(num_list)"
   ]
  },
  {
   "cell_type": "code",
   "execution_count": 22,
   "metadata": {},
   "outputs": [
    {
     "name": "stdout",
     "output_type": "stream",
     "text": [
      "[1, 2, 3, 4, 5, 6, 7, 8, 9, 10, 20]\n"
     ]
    }
   ],
   "source": [
    "## Insert/Delete by method\n",
    "number = [1, 2, 3, 4, 5, 6, 7, 8, 9, 10]\n",
    "number.append(20)\n",
    "print(number)"
   ]
  },
  {
   "cell_type": "code",
   "execution_count": 26,
   "metadata": {},
   "outputs": [
    {
     "name": "stdout",
     "output_type": "stream",
     "text": [
      "10\n",
      "[1, 2, 3, 4, 5, 6, 7, 8, 9]\n"
     ]
    }
   ],
   "source": [
    "number = [1, 2, 3, 4, 5, 6, 7, 8, 9, 10]\n",
    "print(number.pop())\n",
    "print(number)"
   ]
  },
  {
   "cell_type": "code",
   "execution_count": 31,
   "metadata": {},
   "outputs": [
    {
     "name": "stdout",
     "output_type": "stream",
     "text": [
      "[-1, 1, 2, 3, 4, 5, 6, 7, 8, 9, 10]\n",
      "[1, 2, 3, 4, 5, 6, 7, 8, 9, 10]\n"
     ]
    }
   ],
   "source": [
    "number = [1, 2, 3, 4, 5, 6, 7, 8, 9, 10]\n",
    "number.insert(0, -1)\n",
    "print(number)\n",
    "\n",
    "number.remove(-1)\n",
    "print(number)"
   ]
  },
  {
   "cell_type": "code",
   "execution_count": 35,
   "metadata": {},
   "outputs": [
    {
     "name": "stdout",
     "output_type": "stream",
     "text": [
      "[1, 3, 5, 7, 9, 2, 4, 6, 8, 10]\n",
      "[1, 3, 5, 7, 9, 2, 4, 6, 8, 10, 2, 4, 6, 8, 10]\n"
     ]
    }
   ],
   "source": [
    "## Merging Lists\n",
    "odd = [1, 3, 5, 7, 9]\n",
    "even = [2, 4, 6, 8, 10]\n",
    "number = odd + even\n",
    "print(number)\n",
    "number.extend(even)\n",
    "print(number)"
   ]
  },
  {
   "cell_type": "code",
   "execution_count": 38,
   "metadata": {},
   "outputs": [
    {
     "name": "stdout",
     "output_type": "stream",
     "text": [
      "4\n"
     ]
    }
   ],
   "source": [
    "## Index\n",
    "month = ['January', 'February', 'March', 'April', 'May', 'June', 'July', 'August', 'September', 'October', 'November', 'December']\n",
    "print(month.index('May'))"
   ]
  },
  {
   "cell_type": "code",
   "execution_count": 48,
   "metadata": {},
   "outputs": [
    {
     "name": "stdout",
     "output_type": "stream",
     "text": [
      "['H', 'e', 'l', 'l', 'o', ' ', 'P', 'y', 't', 'h', 'o', 'n']\n",
      "2\n"
     ]
    }
   ],
   "source": [
    "## Index\n",
    "hello_list = list('Hello Python')\n",
    "print(hello_list)\n",
    "print(hello_list.count('o'))\n"
   ]
  },
  {
   "cell_type": "code",
   "execution_count": 50,
   "metadata": {},
   "outputs": [
    {
     "name": "stdout",
     "output_type": "stream",
     "text": [
      "['Hello', 'Python']\n",
      "Hello,Python\n"
     ]
    }
   ],
   "source": [
    "hello_list = 'Hello Python'.split(' ')\n",
    "print(hello_list)\n",
    "hello = ','.join(hello_list)\n",
    "print(hello)"
   ]
  },
  {
   "cell_type": "markdown",
   "metadata": {},
   "source": [
    "## Python Lists\n",
    "\n",
    "In Python, a list is a built-in data structure that is mutable, meaning it can be changed. It's an ordered sequence of elements, and each element or value inside a list is called an item. Lists are defined by having values between square brackets `[]`.\n",
    "\n",
    "### Key Points about Python Lists\n",
    "\n",
    "- **Creation**: Lists can be created by placing comma-separated values inside square brackets `[]`, or by using the `list()` function.\n",
    "```python\n",
    "mylist = [1, 2, 3, 4, 5]  # Using square brackets\n",
    "mylist2 = list((1, 2, 3, 4, 5))  # Using list() function\n",
    "```\n",
    "\n",
    "- **Indexing**: Lists use zero-based indexing. You can access list items by referring to the index number.\n",
    "```python\n",
    "print(mylist[0])  # Output: 1\n",
    "```\n",
    "\n",
    "- **Mutability**: Lists are mutable, which means you can change their content.\n",
    "```python\n",
    "mylist[0] = 10\n",
    "print(mylist)  # Output: [10, 2, 3, 4, 5]\n",
    "```\n",
    "\n",
    "- **Methods**: Lists have several methods for manipulating their contents:\n",
    "    - `append(x)`: Adds an item `x` to the end of the list.\n",
    "    - `extend(iterable)`: Adds all the elements of an iterable (like list, tuple, string) to the end of the list.\n",
    "    - `insert(i, x)`: Inserts an item `x` at a given position `i`.\n",
    "    - `remove(x)`: Removes the first item from the list whose value is `x`.\n",
    "    - `pop([i])`: Removes the item at the given position in the list, and returns it. If no index is specified, it removes and returns the last item in the list.\n",
    "    - `index(x, [start], [end])`: Returns the position of the first list item whose value is `x`.\n",
    "    - `count(x)`: Returns the number of times `x` appears in the list.\n",
    "    - `sort(key=None, reverse=False)`: Sorts the items in the list in ascending order by default. `key` and `reverse` can be used to customize the sort order.\n",
    "    - `reverse()`: Reverses the order of the list.\n",
    "    - `clear()`: Removes all items from the list."
   ]
  },
  {
   "cell_type": "markdown",
   "metadata": {},
   "source": [
    "## Tuples"
   ]
  },
  {
   "cell_type": "code",
   "execution_count": 63,
   "metadata": {},
   "outputs": [
    {
     "name": "stdout",
     "output_type": "stream",
     "text": [
      "(1, 2, 3, 4, 5, 6, 7, 8, 9, 10)\n",
      "<class 'tuple'>\n",
      "1\n",
      "0\n",
      "3\n",
      "('A', 'B')\n",
      "A\n",
      "B\n"
     ]
    }
   ],
   "source": [
    "number_tuple = (1, 2, 3, 4, 5, 6, 7, 8, 9, 10)\n",
    "print(number_tuple)\n",
    "print(type(number_tuple))\n",
    "print(number_tuple[0])\n",
    "print(number_tuple.index(1))\n",
    "\n",
    "another_tuple = 1, 2, 2, 3, 3, 3\n",
    "print(another_tuple.count(3))\n",
    "\n",
    "xy = ('A', 'B')\n",
    "x, y = xy\n",
    "print(xy)\n",
    "print(x)\n",
    "print(y)"
   ]
  },
  {
   "cell_type": "markdown",
   "metadata": {},
   "source": [
    "## Python Tuples\n",
    "\n",
    "In Python, a tuple is a built-in data structure that is immutable, meaning it cannot be changed. It's an ordered sequence of elements, and each element or value inside a tuple is called an item. Tuples are defined by having values between round brackets `()`³.\n",
    "\n",
    "### Key Points about Python Tuples\n",
    "\n",
    "- **Creation**: Tuples can be created by placing comma-separated values inside round brackets `()`.\n",
    "```python\n",
    "mytuple = (1, 2, 3, 4, 5)\n",
    "```\n",
    "\n",
    "- **Indexing**: Tuples use zero-based indexing. You can access tuple items by referring to the index number.\n",
    "```python\n",
    "print(mytuple[0])  # Output: 1\n",
    "```\n",
    "\n",
    "- **Immutability**: Tuples are immutable, which means you cannot change their content.\n",
    "```python\n",
    "mytuple[0] = 10  # This will raise an error\n",
    "```\n",
    "\n",
    "- **Methods**: Tuples have two built-in methods:\n",
    "    - `count(x)`: Returns the number of times `x` appears in the tuple.\n",
    "    - `index(x)`: Returns the position of the first tuple item whose value is `x`.\n",
    "\n",
    "- **Usage**: Because tuples are immutable, they are often used for values that should not and do not need to change. Examples could be days of the week, or dates on a calendar.\n"
   ]
  },
  {
   "cell_type": "markdown",
   "metadata": {},
   "source": [
    "## Directory"
   ]
  },
  {
   "cell_type": "code",
   "execution_count": 68,
   "metadata": {},
   "outputs": [
    {
     "name": "stdout",
     "output_type": "stream",
     "text": [
      "{'a': 1, 'b': 2}\n",
      "<class 'dict'>\n",
      "{'x': 10, 'y': 20}\n"
     ]
    }
   ],
   "source": [
    "dic = {'a': 1, 'b': 2}\n",
    "print(dic)\n",
    "print(type(dic))\n",
    "\n",
    "another_dic = dict(x = 10, y = 20)\n",
    "print(another_dic)"
   ]
  },
  {
   "cell_type": "code",
   "execution_count": 70,
   "metadata": {},
   "outputs": [
    {
     "name": "stdout",
     "output_type": "stream",
     "text": [
      "1\n",
      "{'a': 1, 'b': 2, 'c': 3}\n",
      "dict_keys(['a', 'b', 'c'])\n",
      "dict_values([1, 2, 3])\n"
     ]
    }
   ],
   "source": [
    "print(dic['a'])\n",
    "dic['c'] = 3\n",
    "print(dic)\n",
    "print(dic.keys())\n",
    "print(dic.values())"
   ]
  },
  {
   "cell_type": "markdown",
   "metadata": {},
   "source": [
    "## Python Dictionaries\n",
    "\n",
    "In Python, a dictionary is a built-in data structure that is mutable, meaning it can be changed. It's an unordered collection of key-value pairs, where each key must be unique⁴. Dictionaries are defined by having key-value pairs between curly braces `{}`⁴.\n",
    "\n",
    "### Key Points about Python Dictionaries\n",
    "\n",
    "- **Creation**: Dictionaries can be created by placing comma-separated key-value pairs inside curly braces `{}`. Each key-value pair is separated by a colon `:`⁴.\n",
    "```python\n",
    "mydict = {'name': 'John', 'age': 30, 'city': 'New York'}\n",
    "```\n",
    "\n",
    "- **Accessing Values**: You can access the items of a dictionary by referring to its key name.\n",
    "```python\n",
    "print(mydict['name'])  # Output: John\n",
    "```\n",
    "\n",
    "- **Updating Values**: Dictionaries are mutable, which means you can change their content.\n",
    "```python\n",
    "mydict['age'] = 25\n",
    "print(mydict)  # Output: {'name': 'John', 'age': 25, 'city': 'New York'}\n",
    "```\n",
    "\n",
    "- **Methods**: Dictionaries have several methods for manipulating their contents⁴:\n",
    "    - `keys()`: Returns a new object that displays a list of all the keys in the dictionary.\n",
    "    - `values()`: Returns a new object that displays a list of all the values in the dictionary.\n",
    "    - `items()`: Returns a new object that displays a list of the dictionary's key-value tuple pairs.\n",
    "    - `get(key[, default])`: Returns the value for a key if it exists in the dictionary. If not, it returns a default value.\n",
    "    - `update([other])`: Adds key-value pairs from a second dictionary object to the first, overwriting values of the same key.\n",
    "    - `pop(key[, default])`: Removes a key from a dictionary, if it is present, and returns its value.\n",
    "    - `popitem()`: Removes and returns a (key, value) pair from the dictionary. Pairs are returned in LIFO (Last In, First Out) order.\n",
    "    - `clear()`: Removes all items from the dictionary."
   ]
  },
  {
   "cell_type": "markdown",
   "metadata": {},
   "source": [
    "## Set"
   ]
  },
  {
   "cell_type": "code",
   "execution_count": 74,
   "metadata": {},
   "outputs": [
    {
     "name": "stdout",
     "output_type": "stream",
     "text": [
      "{1, 2, 3}\n",
      "<class 'set'>\n"
     ]
    }
   ],
   "source": [
    "number_set = {1, 1, 1, 1, 2, 2, 2, 3, 3, 3}\n",
    "print(number_set)\n",
    "print(type(number_set))"
   ]
  },
  {
   "cell_type": "markdown",
   "metadata": {},
   "source": [
    "The `&` operator is used to perform a bitwise **AND** operation between two integers.\n",
    "The `|` operator is used to perform a bitwise **OR** operation between two integers.\n",
    "The `^` operator is used to perform a bitwise **XOR** operation between two integers."
   ]
  },
  {
   "cell_type": "code",
   "execution_count": 78,
   "metadata": {},
   "outputs": [
    {
     "name": "stdout",
     "output_type": "stream",
     "text": [
      "{'B', 'A'}\n",
      "{'C'}\n",
      "{'D', 'A', 'C', 'B'}\n",
      "{'B', 'D', 'A'}\n"
     ]
    }
   ],
   "source": [
    "first_set = {'A', 'B', 'B', 'C', 'C', 'C'}\n",
    "second_set = {'C', 'C', 'C', 'D', 'D'}\n",
    "\n",
    "print(first_set - second_set)\n",
    "\n",
    "# AND \n",
    "print(first_set & second_set)\n",
    "\n",
    "# OR\n",
    "print(first_set | second_set)\n",
    "\n",
    "# XOR\n",
    "print(first_set ^ second_set)"
   ]
  },
  {
   "cell_type": "markdown",
   "metadata": {},
   "source": [
    "## Python Sets\n",
    "\n",
    "In Python, a set is a built-in data structure that represents an unordered collection of unique elements. Sets are defined by having values between curly braces `{}`⁴.\n",
    "\n",
    "### Key Points about Python Sets\n",
    "\n",
    "- **Creation**: Sets can be created by placing comma-separated values inside curly braces `{}`⁴.\n",
    "```python\n",
    "myset = {1, 2, 3, 4, 5}\n",
    "```\n",
    "\n",
    "- **Uniqueness**: Sets automatically remove duplicate values.\n",
    "```python\n",
    "myset = {1, 2, 2, 3, 4, 4, 5, 5}\n",
    "print(myset)  # Output: {1, 2, 3, 4, 5}\n",
    "```\n",
    "\n",
    "- **Immutability**: While sets themselves can be modified, the elements placed in sets must be of immutable type (e.g., numbers, strings, tuples).\n",
    "\n",
    "- **Methods**: Sets have several methods for manipulating their contents⁴:\n",
    "    - `add(x)`: Adds an element `x` to the set.\n",
    "    - `remove(x)`: Removes element `x` from the set. Raises a `KeyError` if the element is not found.\n",
    "    - `discard(x)`: Removes element `x` from the set if it is present.\n",
    "    - `pop()`: Removes and returns an arbitrary element from the set. Raises a `KeyError` if the set is empty.\n",
    "    - `clear()`: Removes all elements from the set.\n",
    "\n",
    "- **Set Operations**: Python also provides a variety of operations for performing common set operations⁴.\n",
    "    - `union()`: Returns a set containing the union of sets.\n",
    "    - `intersection()`: Returns a set containing the intersection of sets.\n",
    "    - `difference()`: Returns a set containing the difference of sets.\n",
    "    - `symmetric_difference()`: Returns a set containing the symmetric difference of sets."
   ]
  }
 ],
 "metadata": {
  "kernelspec": {
   "display_name": "Python 3",
   "language": "python",
   "name": "python3"
  },
  "language_info": {
   "codemirror_mode": {
    "name": "ipython",
    "version": 3
   },
   "file_extension": ".py",
   "mimetype": "text/x-python",
   "name": "python",
   "nbconvert_exporter": "python",
   "pygments_lexer": "ipython3",
   "version": "3.12.1"
  }
 },
 "nbformat": 4,
 "nbformat_minor": 2
}
