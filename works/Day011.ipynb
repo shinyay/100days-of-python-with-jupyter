{
 "cells": [
  {
   "cell_type": "markdown",
   "metadata": {},
   "source": [
    "# Day 11 - Web and Network"
   ]
  },
  {
   "cell_type": "markdown",
   "metadata": {},
   "source": [
    "## JSON"
   ]
  },
  {
   "cell_type": "code",
   "execution_count": 4,
   "metadata": {},
   "outputs": [],
   "source": [
    "import json\n",
    "import os\n",
    "\n",
    "if not os.path.exists('Day011'):\n",
    "    os.makedirs('Day011')\n",
    "\n",
    "j = {\n",
    "    \"employee\":\n",
    "    [\n",
    "        {\"id\": 111, \"name\": \"Alice\"},\n",
    "        {\"id\": 222, \"name\": \"Bob\"}\n",
    "    ]\n",
    "}\n",
    "\n",
    "with open('Day011/sample.json', 'w') as f:\n",
    "    json.dump(j, f)"
   ]
  }
 ],
 "metadata": {
  "kernelspec": {
   "display_name": "Python 3",
   "language": "python",
   "name": "python3"
  },
  "language_info": {
   "codemirror_mode": {
    "name": "ipython",
    "version": 3
   },
   "file_extension": ".py",
   "mimetype": "text/x-python",
   "name": "python",
   "nbconvert_exporter": "python",
   "pygments_lexer": "ipython3",
   "version": "3.12.1"
  }
 },
 "nbformat": 4,
 "nbformat_minor": 2
}
