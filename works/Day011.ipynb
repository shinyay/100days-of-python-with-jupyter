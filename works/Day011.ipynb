{
 "cells": [
  {
   "cell_type": "markdown",
   "metadata": {},
   "source": [
    "# Day 11 - Web and Network"
   ]
  },
  {
   "cell_type": "markdown",
   "metadata": {},
   "source": [
    "## JSON"
   ]
  },
  {
   "cell_type": "code",
   "execution_count": 4,
   "metadata": {},
   "outputs": [],
   "source": [
    "# Write a JSON file\n",
    "import json\n",
    "import os\n",
    "\n",
    "if not os.path.exists('Day011'):\n",
    "    os.makedirs('Day011')\n",
    "\n",
    "j = {\n",
    "    \"employee\":\n",
    "    [\n",
    "        {\"id\": 111, \"name\": \"Alice\"},\n",
    "        {\"id\": 222, \"name\": \"Bob\"}\n",
    "    ]\n",
    "}\n",
    "\n",
    "with open('Day011/sample.json', 'w') as f:\n",
    "    json.dump(j, f)"
   ]
  },
  {
   "cell_type": "code",
   "execution_count": 16,
   "metadata": {},
   "outputs": [
    {
     "name": "stdout",
     "output_type": "stream",
     "text": [
      "{'employee': [{'id': 111, 'name': 'Alice'}, {'id': 222, 'name': 'Bob'}]}\n",
      "<class 'dict'>\n",
      "{\"employee\": [{\"id\": 111, \"name\": \"Alice\"}, {\"id\": 222, \"name\": \"Bob\"}]}\n",
      "<class 'str'>\n",
      "{'employee': [{'id': 111, 'name': 'Alice'}, {'id': 222, 'name': 'Bob'}]}\n",
      "<class 'dict'>\n"
     ]
    }
   ],
   "source": [
    "# Read a JSON file\n",
    "import json\n",
    "import os\n",
    "\n",
    "if os.path.exists('Day011/sample.json'):\n",
    "    with open('Day011/sample.json', 'r') as f:\n",
    "        # File -> Dictironay\n",
    "        loaded_json = json.load(f)\n",
    "        print(loaded_json)\n",
    "        print(type(loaded_json))\n",
    "\n",
    "        # Dictionary -> String\n",
    "        string_from_json = json.dumps(loaded_json)\n",
    "        print(string_from_json)\n",
    "        print(type(string_from_json))\n",
    "\n",
    "        dictionary_from_json = json.loads(string_from_json)\n",
    "        print(dictionary_from_json)\n",
    "        print(type(dictionary_from_json))\n",
    "else:\n",
    "    print('No JSON Files')"
   ]
  },
  {
   "cell_type": "code",
   "execution_count": 3,
   "metadata": {},
   "outputs": [
    {
     "name": "stdout",
     "output_type": "stream",
     "text": [
      "No Day011\n"
     ]
    }
   ],
   "source": [
    "# Clean up\n",
    "import shutil\n",
    "import os\n",
    "\n",
    "if os.path.exists('Day011'):\n",
    "    shutil.rmtree('Day011')\n",
    "else:\n",
    "    print('No Day011')"
   ]
  }
 ],
 "metadata": {
  "kernelspec": {
   "display_name": "Python 3",
   "language": "python",
   "name": "python3"
  },
  "language_info": {
   "codemirror_mode": {
    "name": "ipython",
    "version": 3
   },
   "file_extension": ".py",
   "mimetype": "text/x-python",
   "name": "python",
   "nbconvert_exporter": "python",
   "pygments_lexer": "ipython3",
   "version": "3.12.1"
  }
 },
 "nbformat": 4,
 "nbformat_minor": 2
}
