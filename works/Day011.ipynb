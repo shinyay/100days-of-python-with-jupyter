{
 "cells": [
  {
   "cell_type": "markdown",
   "metadata": {},
   "source": [
    "# Day 11 - Web and Network"
   ]
  },
  {
   "cell_type": "markdown",
   "metadata": {},
   "source": [
    "## JSON"
   ]
  },
  {
   "cell_type": "code",
   "execution_count": 4,
   "metadata": {},
   "outputs": [],
   "source": [
    "# Write a JSON file\n",
    "import json\n",
    "import os\n",
    "\n",
    "if not os.path.exists('Day011'):\n",
    "    os.makedirs('Day011')\n",
    "\n",
    "j = {\n",
    "    \"employee\":\n",
    "    [\n",
    "        {\"id\": 111, \"name\": \"Alice\"},\n",
    "        {\"id\": 222, \"name\": \"Bob\"}\n",
    "    ]\n",
    "}\n",
    "\n",
    "with open('Day011/sample.json', 'w') as f:\n",
    "    json.dump(j, f)"
   ]
  },
  {
   "cell_type": "code",
   "execution_count": 7,
   "metadata": {},
   "outputs": [
    {
     "name": "stdout",
     "output_type": "stream",
     "text": [
      "{'employee': [{'id': 111, 'name': 'Alice'}, {'id': 222, 'name': 'Bob'}]}\n"
     ]
    }
   ],
   "source": [
    "# Read a JSON file\n",
    "import json\n",
    "import os\n",
    "\n",
    "if os.path.exists('Day011/sample.json'):\n",
    "    with open('Day011/sample.json', 'r') as f:\n",
    "        print(json.load(f))\n",
    "else:\n",
    "    print('No JSON Files')"
   ]
  },
  {
   "cell_type": "code",
   "execution_count": 3,
   "metadata": {},
   "outputs": [
    {
     "name": "stdout",
     "output_type": "stream",
     "text": [
      "No Day011\n"
     ]
    }
   ],
   "source": [
    "# Clean up\n",
    "import shutil\n",
    "import os\n",
    "\n",
    "if os.path.exists('Day011'):\n",
    "    shutil.rmtree('Day011')\n",
    "else:\n",
    "    print('No Day011')"
   ]
  }
 ],
 "metadata": {
  "kernelspec": {
   "display_name": "Python 3",
   "language": "python",
   "name": "python3"
  },
  "language_info": {
   "codemirror_mode": {
    "name": "ipython",
    "version": 3
   },
   "file_extension": ".py",
   "mimetype": "text/x-python",
   "name": "python",
   "nbconvert_exporter": "python",
   "pygments_lexer": "ipython3",
   "version": "3.12.1"
  }
 },
 "nbformat": 4,
 "nbformat_minor": 2
}
