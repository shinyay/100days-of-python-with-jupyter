{
 "cells": [
  {
   "cell_type": "markdown",
   "metadata": {},
   "source": [
    "# Day 11 - Web and Network"
   ]
  },
  {
   "cell_type": "markdown",
   "metadata": {},
   "source": [
    "## JSON"
   ]
  },
  {
   "cell_type": "code",
   "execution_count": 4,
   "metadata": {},
   "outputs": [],
   "source": [
    "# Write a JSON file\n",
    "import json\n",
    "import os\n",
    "\n",
    "if not os.path.exists('Day011'):\n",
    "    os.makedirs('Day011')\n",
    "\n",
    "j = {\n",
    "    \"employee\":\n",
    "    [\n",
    "        {\"id\": 111, \"name\": \"Alice\"},\n",
    "        {\"id\": 222, \"name\": \"Bob\"}\n",
    "    ]\n",
    "}\n",
    "\n",
    "with open('Day011/sample.json', 'w') as f:\n",
    "    json.dump(j, f)"
   ]
  },
  {
   "cell_type": "code",
   "execution_count": 16,
   "metadata": {},
   "outputs": [
    {
     "name": "stdout",
     "output_type": "stream",
     "text": [
      "{'employee': [{'id': 111, 'name': 'Alice'}, {'id': 222, 'name': 'Bob'}]}\n",
      "<class 'dict'>\n",
      "{\"employee\": [{\"id\": 111, \"name\": \"Alice\"}, {\"id\": 222, \"name\": \"Bob\"}]}\n",
      "<class 'str'>\n",
      "{'employee': [{'id': 111, 'name': 'Alice'}, {'id': 222, 'name': 'Bob'}]}\n",
      "<class 'dict'>\n"
     ]
    }
   ],
   "source": [
    "# Read a JSON file\n",
    "import json\n",
    "import os\n",
    "\n",
    "if os.path.exists('Day011/sample.json'):\n",
    "    with open('Day011/sample.json', 'r') as f:\n",
    "        # File -> Dictironay\n",
    "        loaded_json = json.load(f)\n",
    "        print(loaded_json)\n",
    "        print(type(loaded_json))\n",
    "\n",
    "        # Dictionary -> String\n",
    "        string_from_json = json.dumps(loaded_json)\n",
    "        print(string_from_json)\n",
    "        print(type(string_from_json))\n",
    "\n",
    "        dictionary_from_json = json.loads(string_from_json)\n",
    "        print(dictionary_from_json)\n",
    "        print(type(dictionary_from_json))\n",
    "else:\n",
    "    print('No JSON Files')"
   ]
  },
  {
   "cell_type": "code",
   "execution_count": 3,
   "metadata": {},
   "outputs": [
    {
     "name": "stdout",
     "output_type": "stream",
     "text": [
      "No Day011\n"
     ]
    }
   ],
   "source": [
    "# Clean up\n",
    "import shutil\n",
    "import os\n",
    "\n",
    "if os.path.exists('Day011'):\n",
    "    shutil.rmtree('Day011')\n",
    "else:\n",
    "    print('No Day011')"
   ]
  },
  {
   "cell_type": "markdown",
   "metadata": {},
   "source": [
    "## Communition with Python"
   ]
  },
  {
   "cell_type": "code",
   "execution_count": null,
   "metadata": {},
   "outputs": [],
   "source": [
    "# HTTP REQUEST GET\n",
    "import urllib.request\n",
    "\n",
    "url = 'http://httpbin.org/get'\n",
    "with urllib.request.urlopen(url) as f:\n",
    "    print(f.read())"
   ]
  },
  {
   "cell_type": "code",
   "execution_count": null,
   "metadata": {},
   "outputs": [],
   "source": [
    "# HTTP REQUEST GET decoded by UTF-8\n",
    "import urllib.request\n",
    "\n",
    "url = 'http://httpbin.org/get'\n",
    "with urllib.request.urlopen(url) as f:\n",
    "    print(f.read().decode('utf-8'))"
   ]
  },
  {
   "cell_type": "code",
   "execution_count": null,
   "metadata": {},
   "outputs": [],
   "source": [
    "# HTTP REQUEST GET with JSON to Dictioanry\n",
    "import urllib.request\n",
    "import json\n",
    "\n",
    "url = 'http://httpbin.org/get'\n",
    "with urllib.request.urlopen(url) as f:\n",
    "    response = json.loads(f.read())\n",
    "    print(response)\n",
    "    print(type(response))"
   ]
  },
  {
   "cell_type": "code",
   "execution_count": null,
   "metadata": {},
   "outputs": [],
   "source": [
    "# HTTP Request GET with Parameter\n",
    "import urllib.request\n",
    "\n",
    "payload = {'key1': 'value1', 'key2': 'value2'}\n",
    "\n",
    "url = 'http://httpbin.org/get?' + urllib.parse.urlencode(payload)\n",
    "with urllib.request.urlopen(url) as f:\n",
    "    print(f.read().decode('utf-8'))"
   ]
  },
  {
   "cell_type": "code",
   "execution_count": null,
   "metadata": {},
   "outputs": [],
   "source": [
    "# HTTP Request POST\n",
    "import urllib.request\n",
    "import json\n",
    "\n",
    "payload = {'key1': 'value1', 'key2': 'value2'}\n",
    "payload = json.dumps(payload).encode('utf-8')\n",
    "req = urllib.request.Request('http://httpbin.org/post', data=payload, method='POST')\n",
    "\n",
    "with urllib.request.urlopen(req) as f:\n",
    "    res = json.loads(f.read().decode('utf-8'))\n",
    "    print(res)"
   ]
  },
  {
   "cell_type": "code",
   "execution_count": 36,
   "metadata": {},
   "outputs": [
    {
     "name": "stdout",
     "output_type": "stream",
     "text": [
      "{'args': {}, 'data': '', 'files': {}, 'form': {'{\"key1\": \"value1\", \"key2\": \"value2\"}': ''}, 'headers': {'Accept-Encoding': 'identity', 'Content-Length': '36', 'Content-Type': 'application/x-www-form-urlencoded', 'Host': 'httpbin.org', 'User-Agent': 'Python-urllib/3.12', 'X-Amzn-Trace-Id': 'Root=1-65b272cc-1c2742a37fe398463be05dd9'}, 'json': None, 'origin': '153.242.21.141', 'url': 'http://httpbin.org/put'}\n"
     ]
    }
   ],
   "source": [
    "# HTTP Request PUT\n",
    "import urllib.request\n",
    "import json\n",
    "\n",
    "payload = {'key1': 'value1', 'key2': 'value2'}\n",
    "payload = json.dumps(payload).encode('utf-8')\n",
    "req = urllib.request.Request('http://httpbin.org/put', data=payload, method='PUT')\n",
    "\n",
    "with urllib.request.urlopen(req) as f:\n",
    "    res = json.loads(f.read().decode('utf-8'))\n",
    "    print(res)"
   ]
  },
  {
   "cell_type": "code",
   "execution_count": null,
   "metadata": {},
   "outputs": [],
   "source": [
    "# HTTP Request DELETE\n",
    "import urllib.request\n",
    "import json\n",
    "\n",
    "payload = {'key1': 'value1', 'key2': 'value2'}\n",
    "payload = json.dumps(payload).encode('utf-8')\n",
    "req = urllib.request.Request('http://httpbin.org/delete', data=payload, method='DELETE')\n",
    "\n",
    "with urllib.request.urlopen(req) as f:\n",
    "    res = json.loads(f.read().decode('utf-8'))\n",
    "    print(res)"
   ]
  },
  {
   "cell_type": "markdown",
   "metadata": {},
   "source": [
    "## requests\n",
    "\n",
    "The `requests` library in Python is a popular third-party library used for making HTTP requests. It provides a simple and elegant way to interact with web services and APIs. The library abstracts the complexities of making HTTP requests and handling responses, making it easier for developers to work with web services."
   ]
  },
  {
   "cell_type": "code",
   "execution_count": null,
   "metadata": {},
   "outputs": [],
   "source": [
    "import requests\n",
    "\n",
    "payload = {'key1': 'value1', 'key2': 'value2'}\n",
    "\n",
    "res = requests.get('http://httpbin.org/get', params=payload)\n",
    "\n",
    "print('STATUS CODE:', res.status_code)\n",
    "print(res.text)\n",
    "print(res.json())"
   ]
  },
  {
   "cell_type": "markdown",
   "metadata": {},
   "source": [
    "## Web Sever by Flask\n",
    "\n",
    "`Flask` is a lightweight and popular web framework for Python. It is designed to be simple, easy to use, and flexible, making it an excellent choice for building web applications and APIs. Flask is often referred to as a \"micro\" framework because it provides the essentials to get a web application up and running but leaves many decisions to the developer."
   ]
  },
  {
   "cell_type": "code",
   "execution_count": null,
   "metadata": {},
   "outputs": [],
   "source": [
    "from flask import Flask\n",
    "from flask import g\n",
    "from flask import render_template\n",
    "from flask import request\n",
    "from flask import Response"
   ]
  },
  {
   "cell_type": "markdown",
   "metadata": {},
   "source": [
    "### Routing\n",
    "\n",
    "Flask allows you to define routes easily. A route is a URL pattern associated with a function that handles requests to that URL.\n",
    "\n",
    "```python\n",
    "from flask import Flask\n",
    "\n",
    "app = Flask(__name__)\n",
    "\n",
    "@app.route('/')\n",
    "def hello_world():\n",
    "    return 'Hello Flask'\n",
    "\n",
    "def main():\n",
    "    app.debug = True\n",
    "    app.run()\n",
    "\n",
    "if __name__ == '__main__':\n",
    "    main()\n",
    "```"
   ]
  },
  {
   "cell_type": "markdown",
   "metadata": {},
   "source": [
    "## Templates\n",
    "\n",
    "Flask uses the Jinja2 template engine to render HTML templates. Templates allow you to separate the HTML structure from the Python code, making it easier to manage and maintain your web application.\n",
    "\n",
    "```shell\n",
    ".\n",
    "├── hello_flask_template.py\n",
    "└── templates\n",
    "    └── index.html\n",
    "```"
   ]
  }
 ],
 "metadata": {
  "kernelspec": {
   "display_name": "Python 3",
   "language": "python",
   "name": "python3"
  },
  "language_info": {
   "codemirror_mode": {
    "name": "ipython",
    "version": 3
   },
   "file_extension": ".py",
   "mimetype": "text/x-python",
   "name": "python",
   "nbconvert_exporter": "python",
   "pygments_lexer": "ipython3",
   "version": "3.12.1"
  }
 },
 "nbformat": 4,
 "nbformat_minor": 2
}
