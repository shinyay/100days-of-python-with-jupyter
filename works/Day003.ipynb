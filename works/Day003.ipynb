{
 "cells": [
  {
   "cell_type": "markdown",
   "metadata": {},
   "source": [
    "# Day 3 - Control Flow"
   ]
  },
  {
   "cell_type": "markdown",
   "metadata": {},
   "source": [
    "## Tips\n",
    "> Split lines that are too long\n",
    "\n",
    "Python code style dictates that each line should be 80 characters long; if it is longer than 80 characters, you should switch to the next line."
   ]
  },
  {
   "cell_type": "code",
   "execution_count": 1,
   "metadata": {},
   "outputs": [
    {
     "name": "stdout",
     "output_type": "stream",
     "text": [
      "aaaaaaaaaaaaaaaaaaaaaaaaaaaaaaaaabbbbbbbbbbbbbbbbbbbbbbbbbbbbbbbbb\n"
     ]
    }
   ],
   "source": [
    "long_string = 'aaaaaaaaaaaaaaaaaaaaaaaaaaaaaaaaa' \\\n",
    "            + 'bbbbbbbbbbbbbbbbbbbbbbbbbbbbbbbbb'\n",
    "print(long_string)"
   ]
  },
  {
   "cell_type": "markdown",
   "metadata": {},
   "source": [
    "## How to use if, else, and elif statements"
   ]
  },
  {
   "cell_type": "code",
   "execution_count": 2,
   "metadata": {},
   "outputs": [
    {
     "name": "stdout",
     "output_type": "stream",
     "text": [
      "Negative\n"
     ]
    }
   ],
   "source": [
    "# if\n",
    "x = -5\n",
    "if x < 0:\n",
    "    print('Negative')"
   ]
  },
  {
   "cell_type": "code",
   "execution_count": 4,
   "metadata": {},
   "outputs": [
    {
     "name": "stdout",
     "output_type": "stream",
     "text": [
      "Positive\n"
     ]
    }
   ],
   "source": [
    "# else\n",
    "x = 5\n",
    "if x < 0:\n",
    "    print('Negative')\n",
    "else:\n",
    "    print('Positive')"
   ]
  },
  {
   "cell_type": "code",
   "execution_count": 5,
   "metadata": {},
   "outputs": [
    {
     "name": "stdout",
     "output_type": "stream",
     "text": [
      "Zero\n"
     ]
    }
   ],
   "source": [
    "# elif\n",
    "x = 0\n",
    "if x < 0:\n",
    "    print('Negative')\n",
    "elif x == 0:\n",
    "    print('Zero')\n",
    "else:\n",
    "    print('Positive')"
   ]
  },
  {
   "cell_type": "markdown",
   "metadata": {},
   "source": [
    "## Comparison operators, Logical operators"
   ]
  },
  {
   "cell_type": "code",
   "execution_count": 9,
   "metadata": {},
   "outputs": [
    {
     "name": "stdout",
     "output_type": "stream",
     "text": [
      "x == y True\n",
      "x != y False\n"
     ]
    }
   ],
   "source": [
    "# Comparison operator\n",
    "x = 1\n",
    "y = 1\n",
    "print('x == y', x == y)\n",
    "print('x != y', x != y)"
   ]
  },
  {
   "cell_type": "code",
   "execution_count": 7,
   "metadata": {},
   "outputs": [
    {
     "name": "stdout",
     "output_type": "stream",
     "text": [
      "True\n"
     ]
    }
   ],
   "source": [
    "x = 1\n",
    "y = 2\n",
    "print(x < y)"
   ]
  },
  {
   "cell_type": "code",
   "execution_count": 10,
   "metadata": {},
   "outputs": [
    {
     "name": "stdout",
     "output_type": "stream",
     "text": [
      "True\n"
     ]
    }
   ],
   "source": [
    "# Logical operator\n",
    "x = 1\n",
    "y = 1\n",
    "print(x > 0 and y > 0)"
   ]
  },
  {
   "cell_type": "code",
   "execution_count": 11,
   "metadata": {},
   "outputs": [
    {
     "name": "stdout",
     "output_type": "stream",
     "text": [
      "True\n"
     ]
    }
   ],
   "source": [
    "x = 1\n",
    "y = -1\n",
    "print(x > 0 or y > 0)"
   ]
  },
  {
   "cell_type": "code",
   "execution_count": 14,
   "metadata": {},
   "outputs": [
    {
     "name": "stdout",
     "output_type": "stream",
     "text": [
      "y in x\n",
      "b not in a\n"
     ]
    }
   ],
   "source": [
    "# in and not\n",
    "x = [1, 2, 3]\n",
    "y = 1\n",
    "\n",
    "if y in x:\n",
    "    print('y in x')\n",
    "\n",
    "a = [1, 2, 3]\n",
    "b = 5\n",
    "\n",
    "if b not in a:\n",
    "    print('b not in a')"
   ]
  },
  {
   "cell_type": "markdown",
   "metadata": {},
   "source": [
    "## Iterative process"
   ]
  },
  {
   "cell_type": "code",
   "execution_count": 15,
   "metadata": {},
   "outputs": [
    {
     "name": "stdout",
     "output_type": "stream",
     "text": [
      "COUNT:  0\n",
      "COUNT:  1\n",
      "COUNT:  2\n",
      "COUNT:  3\n",
      "COUNT:  4\n"
     ]
    }
   ],
   "source": [
    "# break\n",
    "count = 0\n",
    "while True:\n",
    "    if count == 5:\n",
    "        break\n",
    "    print('COUNT: ', count)\n",
    "    count += 1"
   ]
  },
  {
   "cell_type": "code",
   "execution_count": 17,
   "metadata": {},
   "outputs": [
    {
     "name": "stdout",
     "output_type": "stream",
     "text": [
      "COUNT:  0\n",
      "COUNT:  2\n",
      "COUNT:  4\n",
      "COUNT:  6\n",
      "COUNT:  8\n"
     ]
    }
   ],
   "source": [
    "# countinue\n",
    "count = 0\n",
    "while True:\n",
    "    if count == 10:\n",
    "        break\n",
    "    if count %2 != 0:\n",
    "        count += 1\n",
    "        continue\n",
    "\n",
    "    print('COUNT: ', count)\n",
    "    count += 1"
   ]
  },
  {
   "cell_type": "code",
   "execution_count": 18,
   "metadata": {},
   "outputs": [
    {
     "name": "stdout",
     "output_type": "stream",
     "text": [
      "COUNT:  0\n",
      "COUNT:  1\n",
      "COUNT:  2\n",
      "COUNT:  3\n",
      "COUNT:  4\n",
      "DONE\n"
     ]
    }
   ],
   "source": [
    "# while else\n",
    "count = 0\n",
    "while count < 5:\n",
    "    print('COUNT: ', count)\n",
    "    count += 1\n",
    "else:\n",
    "    print('DONE')"
   ]
  },
  {
   "cell_type": "code",
   "execution_count": 2,
   "metadata": {},
   "outputs": [
    {
     "name": "stdout",
     "output_type": "stream",
     "text": [
      "Element: 1\n",
      "Element: 2\n",
      "Element: 3\n",
      "Element: 4\n",
      "Element: 5\n"
     ]
    }
   ],
   "source": [
    "# for\n",
    "my_list = [1, 2, 3, 4, 5]\n",
    "\n",
    "for i in my_list:\n",
    "    print('Element:', i)"
   ]
  },
  {
   "cell_type": "code",
   "execution_count": 7,
   "metadata": {},
   "outputs": [
    {
     "name": "stdout",
     "output_type": "stream",
     "text": [
      "Element: 0\n",
      "Element: 1\n",
      "Element: 2\n",
      "Element: 3\n",
      "Element: 4\n",
      "Odd: 1\n",
      "Odd: 3\n",
      "Odd: 5\n",
      "Odd: 7\n",
      "Odd: 9\n"
     ]
    }
   ],
   "source": [
    "for i in range(5):\n",
    "    print('Element:', i)\n",
    "\n",
    "for i in range(1, 10, 2):\n",
    "    print('Odd:', i)"
   ]
  },
  {
   "cell_type": "code",
   "execution_count": 8,
   "metadata": {},
   "outputs": [
    {
     "name": "stdout",
     "output_type": "stream",
     "text": [
      "0 Super Mario\n",
      "1 Dragon Quest\n",
      "2 Final Fantasy\n"
     ]
    }
   ],
   "source": [
    "for i, game in enumerate(['Super Mario', 'Dragon Quest', 'Final Fantasy']):\n",
    "    print(i, game)"
   ]
  },
  {
   "cell_type": "code",
   "execution_count": 10,
   "metadata": {},
   "outputs": [
    {
     "name": "stdout",
     "output_type": "stream",
     "text": [
      "Mon 15\n",
      "Tue 16\n",
      "Wed 17\n",
      "Thu 18\n",
      "Fri 19\n",
      "Sat 20\n",
      "Sun 21\n"
     ]
    }
   ],
   "source": [
    "# zip\n",
    "days = ['Mon', 'Tue', 'Wed', 'Thu', 'Fri', 'Sat', 'Sun']\n",
    "day = [15, 16, 17, 18, 19, 20, 21]\n",
    "\n",
    "for day, days in zip(days, day):\n",
    "    print(day, days)"
   ]
  }
 ],
 "metadata": {
  "kernelspec": {
   "display_name": "Python 3",
   "language": "python",
   "name": "python3"
  },
  "language_info": {
   "codemirror_mode": {
    "name": "ipython",
    "version": 3
   },
   "file_extension": ".py",
   "mimetype": "text/x-python",
   "name": "python",
   "nbconvert_exporter": "python",
   "pygments_lexer": "ipython3",
   "version": "3.12.1"
  }
 },
 "nbformat": 4,
 "nbformat_minor": 2
}
