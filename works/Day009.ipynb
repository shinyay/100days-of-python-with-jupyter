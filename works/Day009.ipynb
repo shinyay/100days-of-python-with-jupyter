{
 "cells": [
  {
   "cell_type": "markdown",
   "metadata": {},
   "source": [
    "# Day 9 - Code Style\n",
    "\n",
    "\"pycodestyle,\" \"flake8,\" and \"pylint\" are tools commonly used in the Python ecosystem for static code analysis, style checking, and identifying potential issues in Python code. Each tool serves a specific purpose, but they can be used in combination to ensure better code quality.\n",
    "\n",
    "1. **pycodestyle:**\n",
    "   - Formerly known as \"pep8,\" `pycodestyle` is a tool that checks Python code against the style conventions outlined in PEP 8 (Python Enhancement Proposal 8). It helps ensure that your code follows the recommended coding style for better readability and maintainability. `pycodestyle` primarily focuses on enforcing style rules and does not perform deeper code analysis for potential issues.\n",
    "\n",
    "   **Usage:**\n",
    "   ```bash\n",
    "   pip install pycodestyle\n",
    "   pycodestyle your_python_file.py\n",
    "   ```\n",
    "\n",
    "2. **flake8:**\n",
    "   - `flake8` is a more comprehensive tool that combines multiple linters, including `pycodestyle`, `pyflakes`, and others. It provides a broader set of checks, including style enforcement (following PEP 8), syntax checking, and identification of common programming errors. `flake8` is a powerful and widely used tool in the Python community.\n",
    "\n",
    "   **Usage:**\n",
    "   ```bash\n",
    "   pip install flake8\n",
    "   flake8 your_python_file.py\n",
    "   ```\n",
    "\n",
    "3. **pylint:**\n",
    "   - `pylint` is a highly configurable tool for analyzing Python code. It goes beyond style checking and performs static code analysis to detect potential bugs, errors, and code smells. `pylint` assigns a score to your code based on its quality and adherence to coding standards. It also provides detailed reports and suggestions for improvement.\n",
    "\n",
    "   **Usage:**\n",
    "   ```bash\n",
    "   pip install pylint\n",
    "   pylint your_python_file.py\n",
    "   ```"
   ]
  },
  {
   "cell_type": "markdown",
   "metadata": {},
   "source": [
    "```python\n",
    "x = 1;\n",
    "a = \"A\";\n",
    "```\n",
    "\n",
    "### pycodestyle\n",
    "\n",
    "```shell\n",
    "codestyle01.py:1:6: E703 statement ends with a semicolon\n",
    "codestyle01.py:2:8: E703 statement ends with a semicolon\n",
    "codestyle01.py:2:9: W292 no newline at end of file\n",
    "```\n",
    "\n",
    "### flake8\n",
    "\n",
    "```shell\n",
    "codestyle01.py:1:6: E703 statement ends with a semicolon\n",
    "codestyle01.py:2:8: E703 statement ends with a semicolon\n",
    "codestyle01.py:2:9: W292 no newline at end of file\n",
    "```\n"
   ]
  }
 ],
 "metadata": {
  "language_info": {
   "name": "python"
  }
 },
 "nbformat": 4,
 "nbformat_minor": 2
}
