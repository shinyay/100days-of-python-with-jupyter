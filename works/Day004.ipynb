{
 "cells": [
  {
   "cell_type": "markdown",
   "metadata": {},
   "source": [
    "# Day 4\n",
    "Functions and Exception Handling"
   ]
  },
  {
   "cell_type": "markdown",
   "metadata": {},
   "source": [
    "## Function\n",
    "`def`: It means **define**."
   ]
  },
  {
   "cell_type": "code",
   "execution_count": 1,
   "metadata": {},
   "outputs": [
    {
     "name": "stdout",
     "output_type": "stream",
     "text": [
      "Hi Python\n"
     ]
    }
   ],
   "source": [
    "# Define function\n",
    "def say_hello():\n",
    "    print('Hi Python')\n",
    "\n",
    "say_hello()"
   ]
  },
  {
   "cell_type": "code",
   "execution_count": 2,
   "metadata": {},
   "outputs": [
    {
     "name": "stdout",
     "output_type": "stream",
     "text": [
      "Hi Python\n"
     ]
    }
   ],
   "source": [
    "# Assign a function to a variable and execute it\n",
    "f_variable = say_hello\n",
    "f_variable()"
   ]
  },
  {
   "cell_type": "code",
   "execution_count": 3,
   "metadata": {},
   "outputs": [
    {
     "name": "stdout",
     "output_type": "stream",
     "text": [
      "Hello Python\n"
     ]
    }
   ],
   "source": [
    "def do_something():\n",
    "    hello = 'Hello Python'\n",
    "    return hello\n",
    "\n",
    "print(do_something())"
   ]
  },
  {
   "cell_type": "code",
   "execution_count": 5,
   "metadata": {},
   "outputs": [
    {
     "name": "stdout",
     "output_type": "stream",
     "text": [
      "Hello Java\n",
      "Hello Kotlin\n",
      "Hello Rust\n"
     ]
    }
   ],
   "source": [
    "def do_something(something):\n",
    "    print(f'Hello {something}')\n",
    "\n",
    "do_something('Java')\n",
    "do_something('Kotlin')\n",
    "do_something('Rust')"
   ]
  },
  {
   "cell_type": "code",
   "execution_count": 7,
   "metadata": {},
   "outputs": [
    {
     "name": "stdout",
     "output_type": "stream",
     "text": [
      "Shinya, Yanagihafra\n",
      "John, Doe\n"
     ]
    }
   ],
   "source": [
    "# Keyword argument, default argument\n",
    "def say_name(first = 'John', last = 'Doe'):\n",
    "    print(f'{first}, {last}')\n",
    "\n",
    "say_name(last = 'Yanagihafra', first= 'Shinya')\n",
    "say_name()"
   ]
  },
  {
   "cell_type": "markdown",
   "metadata": {},
   "source": [
    "## Tips\n",
    "> Lists should not be used as default arguments in Python"
   ]
  },
  {
   "cell_type": "code",
   "execution_count": 13,
   "metadata": {},
   "outputs": [
    {
     "name": "stdout",
     "output_type": "stream",
     "text": [
      "[1]\n",
      "[1, 1]\n",
      "[1, 1, 1]\n"
     ]
    }
   ],
   "source": [
    "def sample_func(x, l=[]):\n",
    "    l.append(x)\n",
    "    return l\n",
    "\n",
    "print(sample_func(1))\n",
    "print(sample_func(1))\n",
    "print(sample_func(1))"
   ]
  },
  {
   "cell_type": "code",
   "execution_count": 21,
   "metadata": {},
   "outputs": [
    {
     "name": "stdout",
     "output_type": "stream",
     "text": [
      "Argument: Mario\n",
      "Argument: DQ\n",
      "Argument: FF\n",
      "Argument: ('Mac', 'Windows', 'Linux')\n",
      "Argument: Mac\n",
      "Argument: Windows\n",
      "Argument: Linux\n"
     ]
    }
   ],
   "source": [
    "# Tuple arguments\n",
    "def do_something(*args):\n",
    "    for arg in args:\n",
    "        print(\"Argument:\", arg)\n",
    "\n",
    "do_something('Mario', 'DQ', 'FF')\n",
    "\n",
    "my_tuple = ('Mac', 'Windows', 'Linux')\n",
    "do_something(my_tuple)\n",
    "# Unpacking with *\n",
    "do_something(*my_tuple)"
   ]
  },
  {
   "cell_type": "code",
   "execution_count": 26,
   "metadata": {},
   "outputs": [
    {
     "name": "stdout",
     "output_type": "stream",
     "text": [
      "{'drink': 'coffee', 'fruit': 'orange'}\n",
      "{'drink': 'tea', 'fruit': 'apple'}\n"
     ]
    }
   ],
   "source": [
    "# Dictionary of keyword arguments\n",
    "def say_something(**kwargs):\n",
    "    print(kwargs)\n",
    "\n",
    "say_something(drink='coffee', fruit= 'orange')\n",
    "\n",
    "foods = {\n",
    "    'drink': 'tea',\n",
    "    'fruit': 'apple',\n",
    "}\n",
    "say_something(**foods)"
   ]
  },
  {
   "cell_type": "code",
   "execution_count": 27,
   "metadata": {},
   "outputs": [
    {
     "name": "stdout",
     "output_type": "stream",
     "text": [
      "\n",
      "    Do something.\n",
      "\n",
      "    Args:\n",
      "        param1 (int): The first parameter.\n",
      "        param2 (str): The second parameter.\n",
      "    \n",
      "    Rturns:\n",
      "        bool\n",
      "    \n"
     ]
    }
   ],
   "source": [
    "# Docstring\n",
    "def do_something(param1, param2):\n",
    "    \"\"\"\n",
    "    Do something.\n",
    "\n",
    "    Args:\n",
    "        param1 (int): The first parameter.\n",
    "        param2 (str): The second parameter.\n",
    "    \n",
    "    Rturns:\n",
    "        bool\n",
    "    \"\"\"\n",
    "\n",
    "    print(param1)\n",
    "    print(param2)\n",
    "    return True\n",
    "\n",
    "print(do_something.__doc__)"
   ]
  },
  {
   "cell_type": "code",
   "execution_count": 28,
   "metadata": {},
   "outputs": [
    {
     "name": "stdout",
     "output_type": "stream",
     "text": [
      "Param1: 1\n",
      "Param2: 2\n",
      "Result: 3\n"
     ]
    }
   ],
   "source": [
    "# Inner function\n",
    "def outer_func(x, y):\n",
    "    def inner_func(a, b):\n",
    "        print('Param1:', a)\n",
    "        print('Param2:', b)\n",
    "        return a+b\n",
    "    \n",
    "    print('Result:', inner_func(x, y))\n",
    "\n",
    "outer_func(1, 2)"
   ]
  },
  {
   "cell_type": "code",
   "execution_count": 37,
   "metadata": {},
   "outputs": [
    {
     "name": "stdout",
     "output_type": "stream",
     "text": [
      "Closure: 3\n"
     ]
    }
   ],
   "source": [
    "# Closure\n",
    "def outer(x, y):\n",
    "    def inner():\n",
    "        return x + y\n",
    "    return inner\n",
    "\n",
    "my_func = outer(1, 2)\n",
    "print('Closure:', my_func())"
   ]
  },
  {
   "cell_type": "code",
   "execution_count": 42,
   "metadata": {},
   "outputs": [
    {
     "name": "stdout",
     "output_type": "stream",
     "text": [
      "[START-INFO]---\n",
      "[START-DETAIL]---\n",
      "func: add_num\n",
      "args: (1, 2)\n",
      "kwargs: {}\n",
      "result: 3\n",
      "[END-DETAIL]---\n",
      "[END-INFO]---\n",
      "3\n"
     ]
    }
   ],
   "source": [
    "# Decorator\n",
    "\n",
    "def print_info(func):\n",
    "    def wrapper(*args, **kwargs):\n",
    "        print('[START-INFO]---')\n",
    "        result = func(*args, **kwargs)\n",
    "        print('[END-INFO]---')\n",
    "        return result\n",
    "    return wrapper\n",
    "\n",
    "def print_detail(func):\n",
    "    def wrapper(*args, **kwargs):\n",
    "        print('[START-DETAIL]---')\n",
    "        print('func:', func.__name__)\n",
    "        print('args:', args)\n",
    "        print('kwargs:', kwargs)\n",
    "        result = func(*args, **kwargs)\n",
    "        print('result:', result)\n",
    "        print('[END-DETAIL]---')\n",
    "        return result\n",
    "    return wrapper\n",
    "\n",
    "@print_info\n",
    "@print_detail\n",
    "def add_num(a, b):\n",
    "    return a + b\n",
    "\n",
    "my_func = add_num(1, 2)\n",
    "print(my_func)"
   ]
  },
  {
   "cell_type": "code",
   "execution_count": 47,
   "metadata": {},
   "outputs": [
    {
     "name": "stdout",
     "output_type": "stream",
     "text": [
      "MON\n",
      "TUE\n",
      "WED\n",
      "THU\n",
      "FRI\n",
      "SAT\n",
      "SUN\n",
      "-----\n",
      "mon\n",
      "tue\n",
      "wed\n",
      "thu\n",
      "fri\n",
      "sat\n",
      "sun\n",
      "-----\n",
      "mON\n",
      "tUE\n",
      "wED\n",
      "tHU\n",
      "fRI\n",
      "sAT\n",
      "sUN\n"
     ]
    }
   ],
   "source": [
    "# Lambda\n",
    "# `lambda parameter: procedure`\n",
    "\n",
    "days = ['Mon', 'Tue', 'Wed', 'Thu', 'Fri', 'Sat', 'Sun']\n",
    "\n",
    "def change_words(words, func):\n",
    "    for word in words:\n",
    "        print(func(word))\n",
    "\n",
    "my_func = lambda word: word.upper()\n",
    "# def my_func(word):\n",
    "#     return word.upper()\n",
    "\n",
    "change_words(days, my_func)\n",
    "print('-----')\n",
    "change_words(days, lambda word: word.lower())\n",
    "print('-----')\n",
    "change_words(days, lambda word: word.swapcase())"
   ]
  },
  {
   "cell_type": "code",
   "execution_count": 50,
   "metadata": {},
   "outputs": [
    {
     "name": "stdout",
     "output_type": "stream",
     "text": [
      "1\n",
      "2\n",
      "3\n",
      "1\n",
      "2\n",
      "3\n"
     ]
    }
   ],
   "source": [
    "# Generator\n",
    "def simple_generator():\n",
    "    yield 1\n",
    "    yield 2\n",
    "    yield 3\n",
    "\n",
    "for value in simple_generator():\n",
    "    print(value)\n",
    "\n",
    "x = simple_generator()\n",
    "print(next(x))\n",
    "print(next(x))\n",
    "print(next(x))"
   ]
  },
  {
   "cell_type": "markdown",
   "metadata": {},
   "source": [
    "## Comprehensions"
   ]
  },
  {
   "cell_type": "code",
   "execution_count": 53,
   "metadata": {},
   "outputs": [
    {
     "name": "stdout",
     "output_type": "stream",
     "text": [
      "[1, 2, 3, 4, 5]\n",
      "[2, 4]\n"
     ]
    }
   ],
   "source": [
    "# List Comprehension\n",
    "# for..in..\n",
    "\n",
    "my_tuple = (1, 2, 3, 4, 5)\n",
    "my_comprehensions = [i for i in my_tuple]\n",
    "print(my_comprehensions)\n",
    "\n",
    "my_comprehensions_even = [i for i in my_tuple if i % 2 == 0]\n",
    "print(my_comprehensions_even)"
   ]
  },
  {
   "cell_type": "code",
   "execution_count": 1,
   "metadata": {},
   "outputs": [
    {
     "name": "stdout",
     "output_type": "stream",
     "text": [
      "{'Mon': 15, 'Tue': 16, 'Wed': 15}\n"
     ]
    }
   ],
   "source": [
    "# Dictionary Comprehension\n",
    "#  for..in zip..\n",
    "\n",
    "my_key = ['Mon', 'Tue', 'Wed']\n",
    "my_value = [15, 16, 15]\n",
    "\n",
    "my_dictionary = {x: y for x, y in zip(my_key, my_value)}\n",
    "\n",
    "print(my_dictionary)"
   ]
  },
  {
   "cell_type": "code",
   "execution_count": 3,
   "metadata": {},
   "outputs": [
    {
     "name": "stdout",
     "output_type": "stream",
     "text": [
      "<class 'set'>\n",
      "{0, 1, 2, 3, 4, 5, 6, 7, 8, 9}\n",
      "{0, 2, 4, 6, 8}\n"
     ]
    }
   ],
   "source": [
    "# Set Comprehension\n",
    "\n",
    "my_set = {i for i in range(10)}\n",
    "print(type(my_set))\n",
    "print(my_set)\n",
    "\n",
    "my_set = {i for i in range(10) if i % 2 == 0}\n",
    "print(my_set)"
   ]
  },
  {
   "cell_type": "code",
   "execution_count": 6,
   "metadata": {},
   "outputs": [
    {
     "name": "stdout",
     "output_type": "stream",
     "text": [
      "<class 'generator'>\n",
      "0\n",
      "1\n",
      "2\n"
     ]
    }
   ],
   "source": [
    "# Generator Comprehension\n",
    "\n",
    "my_generator = (gen for gen in range(10))\n",
    "print(type(my_generator))\n",
    "print(next(my_generator))\n",
    "print(next(my_generator))\n",
    "print(next(my_generator))"
   ]
  }
 ],
 "metadata": {
  "kernelspec": {
   "display_name": "Python 3",
   "language": "python",
   "name": "python3"
  },
  "language_info": {
   "codemirror_mode": {
    "name": "ipython",
    "version": 3
   },
   "file_extension": ".py",
   "mimetype": "text/x-python",
   "name": "python",
   "nbconvert_exporter": "python",
   "pygments_lexer": "ipython3",
   "version": "3.12.1"
  }
 },
 "nbformat": 4,
 "nbformat_minor": 2
}
