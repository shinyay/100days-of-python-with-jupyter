{
 "cells": [
  {
   "cell_type": "markdown",
   "metadata": {},
   "source": [
    "# Day 4\n",
    "Functions and Exception Handling"
   ]
  },
  {
   "cell_type": "markdown",
   "metadata": {},
   "source": [
    "## Function\n",
    "`def`: It means **define**."
   ]
  },
  {
   "cell_type": "code",
   "execution_count": 1,
   "metadata": {},
   "outputs": [
    {
     "name": "stdout",
     "output_type": "stream",
     "text": [
      "Hi Python\n"
     ]
    }
   ],
   "source": [
    "# Define function\n",
    "def say_hello():\n",
    "    print('Hi Python')\n",
    "\n",
    "say_hello()"
   ]
  },
  {
   "cell_type": "code",
   "execution_count": 2,
   "metadata": {},
   "outputs": [
    {
     "name": "stdout",
     "output_type": "stream",
     "text": [
      "Hi Python\n"
     ]
    }
   ],
   "source": [
    "# Assign a function to a variable and execute it\n",
    "f_variable = say_hello\n",
    "f_variable()"
   ]
  },
  {
   "cell_type": "code",
   "execution_count": 3,
   "metadata": {},
   "outputs": [
    {
     "name": "stdout",
     "output_type": "stream",
     "text": [
      "Hello Python\n"
     ]
    }
   ],
   "source": [
    "def do_something():\n",
    "    hello = 'Hello Python'\n",
    "    return hello\n",
    "\n",
    "print(do_something())"
   ]
  },
  {
   "cell_type": "code",
   "execution_count": 5,
   "metadata": {},
   "outputs": [
    {
     "name": "stdout",
     "output_type": "stream",
     "text": [
      "Hello Java\n",
      "Hello Kotlin\n",
      "Hello Rust\n"
     ]
    }
   ],
   "source": [
    "def do_something(something):\n",
    "    print(f'Hello {something}')\n",
    "\n",
    "do_something('Java')\n",
    "do_something('Kotlin')\n",
    "do_something('Rust')"
   ]
  },
  {
   "cell_type": "code",
   "execution_count": 7,
   "metadata": {},
   "outputs": [
    {
     "name": "stdout",
     "output_type": "stream",
     "text": [
      "Shinya, Yanagihafra\n",
      "John, Doe\n"
     ]
    }
   ],
   "source": [
    "# Keyword argument, default argument\n",
    "def say_name(first = 'John', last = 'Doe'):\n",
    "    print(f'{first}, {last}')\n",
    "\n",
    "say_name(last = 'Yanagihafra', first= 'Shinya')\n",
    "say_name()"
   ]
  },
  {
   "cell_type": "markdown",
   "metadata": {},
   "source": [
    "## Tips\n",
    "> Lists should not be used as default arguments in Python"
   ]
  },
  {
   "cell_type": "code",
   "execution_count": 13,
   "metadata": {},
   "outputs": [
    {
     "name": "stdout",
     "output_type": "stream",
     "text": [
      "[1]\n",
      "[1, 1]\n",
      "[1, 1, 1]\n"
     ]
    }
   ],
   "source": [
    "def sample_func(x, l=[]):\n",
    "    l.append(x)\n",
    "    return l\n",
    "\n",
    "print(sample_func(1))\n",
    "print(sample_func(1))\n",
    "print(sample_func(1))"
   ]
  },
  {
   "cell_type": "code",
   "execution_count": 21,
   "metadata": {},
   "outputs": [
    {
     "name": "stdout",
     "output_type": "stream",
     "text": [
      "Argument: Mario\n",
      "Argument: DQ\n",
      "Argument: FF\n",
      "Argument: ('Mac', 'Windows', 'Linux')\n",
      "Argument: Mac\n",
      "Argument: Windows\n",
      "Argument: Linux\n"
     ]
    }
   ],
   "source": [
    "# Tuple arguments\n",
    "def do_something(*args):\n",
    "    for arg in args:\n",
    "        print(\"Argument:\", arg)\n",
    "\n",
    "do_something('Mario', 'DQ', 'FF')\n",
    "\n",
    "my_tuple = ('Mac', 'Windows', 'Linux')\n",
    "do_something(my_tuple)\n",
    "# Unpacking with *\n",
    "do_something(*my_tuple)"
   ]
  },
  {
   "cell_type": "code",
   "execution_count": 26,
   "metadata": {},
   "outputs": [
    {
     "name": "stdout",
     "output_type": "stream",
     "text": [
      "{'drink': 'coffee', 'fruit': 'orange'}\n",
      "{'drink': 'tea', 'fruit': 'apple'}\n"
     ]
    }
   ],
   "source": [
    "# Dictionary of keyword arguments\n",
    "def say_something(**kwargs):\n",
    "    print(kwargs)\n",
    "\n",
    "say_something(drink='coffee', fruit= 'orange')\n",
    "\n",
    "foods = {\n",
    "    'drink': 'tea',\n",
    "    'fruit': 'apple',\n",
    "}\n",
    "say_something(**foods)"
   ]
  },
  {
   "cell_type": "code",
   "execution_count": 27,
   "metadata": {},
   "outputs": [
    {
     "name": "stdout",
     "output_type": "stream",
     "text": [
      "\n",
      "    Do something.\n",
      "\n",
      "    Args:\n",
      "        param1 (int): The first parameter.\n",
      "        param2 (str): The second parameter.\n",
      "    \n",
      "    Rturns:\n",
      "        bool\n",
      "    \n"
     ]
    }
   ],
   "source": [
    "# Docstring\n",
    "def do_something(param1, param2):\n",
    "    \"\"\"\n",
    "    Do something.\n",
    "\n",
    "    Args:\n",
    "        param1 (int): The first parameter.\n",
    "        param2 (str): The second parameter.\n",
    "    \n",
    "    Rturns:\n",
    "        bool\n",
    "    \"\"\"\n",
    "\n",
    "    print(param1)\n",
    "    print(param2)\n",
    "    return True\n",
    "\n",
    "print(do_something.__doc__)"
   ]
  },
  {
   "cell_type": "code",
   "execution_count": 28,
   "metadata": {},
   "outputs": [
    {
     "name": "stdout",
     "output_type": "stream",
     "text": [
      "Param1: 1\n",
      "Param2: 2\n",
      "Result: 3\n"
     ]
    }
   ],
   "source": [
    "# Inner function\n",
    "def outer_func(x, y):\n",
    "    def inner_func(a, b):\n",
    "        print('Param1:', a)\n",
    "        print('Param2:', b)\n",
    "        return a+b\n",
    "    \n",
    "    print('Result:', inner_func(x, y))\n",
    "\n",
    "outer_func(1, 2)"
   ]
  },
  {
   "cell_type": "code",
   "execution_count": 37,
   "metadata": {},
   "outputs": [
    {
     "name": "stdout",
     "output_type": "stream",
     "text": [
      "Closure: 3\n"
     ]
    }
   ],
   "source": [
    "# Closure\n",
    "def outer(x, y):\n",
    "    def inner():\n",
    "        return x + y\n",
    "    return inner\n",
    "\n",
    "my_func = outer(1, 2)\n",
    "print('Closure:', my_func())"
   ]
  },
  {
   "cell_type": "code",
   "execution_count": 41,
   "metadata": {},
   "outputs": [
    {
     "name": "stdout",
     "output_type": "stream",
     "text": [
      "[START]---\n",
      "func: add_num\n",
      "args: (1, 2)\n",
      "kwargs: {}\n",
      "result: 3\n",
      "[END]---\n",
      "[END]---\n",
      "3\n"
     ]
    }
   ],
   "source": [
    "# Decorator\n",
    "\n",
    "def print_info(func):\n",
    "    def wrapper(*args, **kwargs):\n",
    "        print('[START-INFO]---')\n",
    "        result = func(*args, **kwargs)\n",
    "        print('[END-INFO]---')\n",
    "        return result\n",
    "    return wrapper\n",
    "\n",
    "def print_detail(func):\n",
    "    def wrapper(*args, **kwargs):\n",
    "        print('[START-DETAIL]---')\n",
    "        print('func:', func.__name__)\n",
    "        print('args:', args)\n",
    "        print('kwargs:', kwargs)\n",
    "        result = func(*args, **kwargs)\n",
    "        print('result:', result)\n",
    "        print('[END-DETAIL]---')\n",
    "        return result\n",
    "    return wrapper\n",
    "\n",
    "@print_info\n",
    "@print_detail\n",
    "def add_num(a, b):\n",
    "    return a + b\n",
    "\n",
    "my_func = add_num(1, 2)\n",
    "print(my_func)"
   ]
  }
 ],
 "metadata": {
  "kernelspec": {
   "display_name": "Python 3",
   "language": "python",
   "name": "python3"
  },
  "language_info": {
   "codemirror_mode": {
    "name": "ipython",
    "version": 3
   },
   "file_extension": ".py",
   "mimetype": "text/x-python",
   "name": "python",
   "nbconvert_exporter": "python",
   "pygments_lexer": "ipython3",
   "version": "3.12.1"
  }
 },
 "nbformat": 4,
 "nbformat_minor": 2
}
