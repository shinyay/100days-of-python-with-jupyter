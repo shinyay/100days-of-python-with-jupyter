{
 "cells": [
  {
   "cell_type": "markdown",
   "metadata": {},
   "source": [
    "# Day 4\n",
    "Functions and Exception Handling"
   ]
  },
  {
   "cell_type": "markdown",
   "metadata": {},
   "source": [
    "## Function\n",
    "`def`: It means **define**."
   ]
  },
  {
   "cell_type": "code",
   "execution_count": 1,
   "metadata": {},
   "outputs": [
    {
     "name": "stdout",
     "output_type": "stream",
     "text": [
      "Hi Python\n"
     ]
    }
   ],
   "source": [
    "# Define function\n",
    "def say_hello():\n",
    "    print('Hi Python')\n",
    "\n",
    "say_hello()"
   ]
  },
  {
   "cell_type": "code",
   "execution_count": 2,
   "metadata": {},
   "outputs": [
    {
     "name": "stdout",
     "output_type": "stream",
     "text": [
      "Hi Python\n"
     ]
    }
   ],
   "source": [
    "# Assign a function to a variable and execute it\n",
    "f_variable = say_hello\n",
    "f_variable()"
   ]
  },
  {
   "cell_type": "code",
   "execution_count": 3,
   "metadata": {},
   "outputs": [
    {
     "name": "stdout",
     "output_type": "stream",
     "text": [
      "Hello Python\n"
     ]
    }
   ],
   "source": [
    "def do_something():\n",
    "    hello = 'Hello Python'\n",
    "    return hello\n",
    "\n",
    "print(do_something())"
   ]
  },
  {
   "cell_type": "code",
   "execution_count": 5,
   "metadata": {},
   "outputs": [
    {
     "name": "stdout",
     "output_type": "stream",
     "text": [
      "Hello Java\n",
      "Hello Kotlin\n",
      "Hello Rust\n"
     ]
    }
   ],
   "source": [
    "def do_something(something):\n",
    "    print(f'Hello {something}')\n",
    "\n",
    "do_something('Java')\n",
    "do_something('Kotlin')\n",
    "do_something('Rust')"
   ]
  },
  {
   "cell_type": "code",
   "execution_count": 7,
   "metadata": {},
   "outputs": [
    {
     "name": "stdout",
     "output_type": "stream",
     "text": [
      "Shinya, Yanagihafra\n",
      "John, Doe\n"
     ]
    }
   ],
   "source": [
    "# Keyword argument, default argument\n",
    "def say_name(first = 'John', last = 'Doe'):\n",
    "    print(f'{first}, {last}')\n",
    "\n",
    "say_name(last = 'Yanagihafra', first= 'Shinya')\n",
    "say_name()"
   ]
  },
  {
   "cell_type": "markdown",
   "metadata": {},
   "source": [
    "## Tips\n",
    "> Lists should not be used as default arguments in Python"
   ]
  },
  {
   "cell_type": "code",
   "execution_count": 13,
   "metadata": {},
   "outputs": [
    {
     "name": "stdout",
     "output_type": "stream",
     "text": [
      "[1]\n",
      "[1, 1]\n",
      "[1, 1, 1]\n"
     ]
    }
   ],
   "source": [
    "def sample_func(x, l=[]):\n",
    "    l.append(x)\n",
    "    return l\n",
    "\n",
    "print(sample_func(1))\n",
    "print(sample_func(1))\n",
    "print(sample_func(1))"
   ]
  },
  {
   "cell_type": "code",
   "execution_count": 21,
   "metadata": {},
   "outputs": [
    {
     "name": "stdout",
     "output_type": "stream",
     "text": [
      "Argument: Mario\n",
      "Argument: DQ\n",
      "Argument: FF\n",
      "Argument: ('Mac', 'Windows', 'Linux')\n",
      "Argument: Mac\n",
      "Argument: Windows\n",
      "Argument: Linux\n"
     ]
    }
   ],
   "source": [
    "# Tuple arguments\n",
    "def do_something(*args):\n",
    "    for arg in args:\n",
    "        print(\"Argument:\", arg)\n",
    "\n",
    "do_something('Mario', 'DQ', 'FF')\n",
    "\n",
    "my_tuple = ('Mac', 'Windows', 'Linux')\n",
    "do_something(my_tuple)\n",
    "# Unpacking with *\n",
    "do_something(*my_tuple)"
   ]
  }
 ],
 "metadata": {
  "kernelspec": {
   "display_name": "Python 3",
   "language": "python",
   "name": "python3"
  },
  "language_info": {
   "codemirror_mode": {
    "name": "ipython",
    "version": 3
   },
   "file_extension": ".py",
   "mimetype": "text/x-python",
   "name": "python",
   "nbconvert_exporter": "python",
   "pygments_lexer": "ipython3",
   "version": "3.12.1"
  }
 },
 "nbformat": 4,
 "nbformat_minor": 2
}
