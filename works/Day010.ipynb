{
 "cells": [
  {
   "cell_type": "markdown",
   "metadata": {},
   "source": [
    "# Day 10 - Config and Logging"
   ]
  },
  {
   "cell_type": "markdown",
   "metadata": {},
   "source": [
    "## Config\n",
    "\n",
    "Both the configparser and yaml libraries are commonly used for creating configuration files in Python."
   ]
  },
  {
   "cell_type": "code",
   "execution_count": 10,
   "metadata": {},
   "outputs": [],
   "source": [
    "# write a config ini\n",
    "import configparser\n",
    "import os\n",
    "\n",
    "if not os.path.exists('Day010'):\n",
    "    os.makedirs('Day010')\n",
    "\n",
    "config = configparser.ConfigParser()\n",
    "config['DEFAULT'] = {\n",
    "    'debug': True\n",
    "}\n",
    "config['web_server'] = {\n",
    "    'host': '127.0.0.1',\n",
    "    'port': 80\n",
    "}\n",
    "config['db_server'] = {\n",
    "    'host': '127.0.0.1',\n",
    "    'port': 3306    \n",
    "}\n",
    "with open('Day010/config.ini', 'w') as config_file:\n",
    "    config.write(config_file)"
   ]
  },
  {
   "cell_type": "code",
   "execution_count": 11,
   "metadata": {},
   "outputs": [
    {
     "name": "stdout",
     "output_type": "stream",
     "text": [
      "<Section: DEFAULT>\n",
      "True\n"
     ]
    }
   ],
   "source": [
    "#read a cofnig ini\n",
    "import configparser\n",
    "\n",
    "config = configparser.ConfigParser()\n",
    "config.read('Day010/config.ini')\n",
    "print(config['DEFAULT'])\n",
    "print(config['DEFAULT']['debug'])"
   ]
  },
  {
   "cell_type": "code",
   "execution_count": 14,
   "metadata": {},
   "outputs": [],
   "source": [
    "# Clean up\n",
    "import shutil\n",
    "if os.path.exists('Day010'):\n",
    "    shutil.rmtree('Day010')"
   ]
  },
  {
   "cell_type": "code",
   "execution_count": 23,
   "metadata": {},
   "outputs": [],
   "source": [
    "# write a yaml\n",
    "import yaml\n",
    "import os\n",
    "\n",
    "if not os.path.exists('Day010'):\n",
    "    os.makedirs('Day010')\n",
    "\n",
    "with open('Day010/config.yml', 'w') as yaml_file:\n",
    "    yaml.dump({\n",
    "        'DEFAULT': {\n",
    "            'debug': True\n",
    "        },\n",
    "        'web_server': {\n",
    "            'host': '127.0.0.1',\n",
    "            'port': 80\n",
    "        },\n",
    "        'db_server': {\n",
    "            'host': '127.0.0.1',\n",
    "            'port': 83306\n",
    "        },\n",
    "    }, yaml_file)"
   ]
  },
  {
   "cell_type": "code",
   "execution_count": 24,
   "metadata": {},
   "outputs": [
    {
     "name": "stdout",
     "output_type": "stream",
     "text": [
      "{'DEFAULT': {'debug': True}, 'db_server': {'host': '127.0.0.1', 'port': 83306}, 'web_server': {'host': '127.0.0.1', 'port': 80}}\n",
      "<class 'dict'>\n",
      "{'debug': True}\n",
      "{'host': '127.0.0.1', 'port': 80}\n",
      "127.0.0.1\n",
      "80\n",
      "{'host': '127.0.0.1', 'port': 83306}\n"
     ]
    }
   ],
   "source": [
    "# load a yaml\n",
    "import yaml\n",
    "\n",
    "with open('Day010/config.yml') as yaml_file:\n",
    "    data = yaml.load(yaml_file, Loader=yaml.FullLoader)\n",
    "    print(data)\n",
    "    print(type(data))\n",
    "    print(data['DEFAULT'])\n",
    "    print(data['web_server'])\n",
    "    print(data['web_server']['host'])\n",
    "    print(data['web_server']['port'])\n",
    "    print(data['db_server'])"
   ]
  },
  {
   "cell_type": "markdown",
   "metadata": {},
   "source": [
    "## Logging"
   ]
  },
  {
   "cell_type": "code",
   "execution_count": null,
   "metadata": {},
   "outputs": [],
   "source": []
  },
  {
   "cell_type": "code",
   "execution_count": 29,
   "metadata": {},
   "outputs": [
    {
     "name": "stderr",
     "output_type": "stream",
     "text": [
      "CRITICAL:root:critical\n",
      "ERROR:root:error\n",
      "WARNING:root:warning\n"
     ]
    }
   ],
   "source": [
    "import logging\n",
    "\n",
    "logging.critical('critical')\n",
    "logging.error('error')\n",
    "logging.warning('warning')\n",
    "logging.info('info')\n",
    "logging.debug('debug')"
   ]
  },
  {
   "cell_type": "code",
   "execution_count": 35,
   "metadata": {},
   "outputs": [
    {
     "name": "stderr",
     "output_type": "stream",
     "text": [
      "CRITICAL:root:critical\n",
      "ERROR:root:error\n",
      "WARNING:root:warning\n"
     ]
    }
   ],
   "source": [
    "# Log Level\n",
    "import logging\n",
    "\n",
    "logging.basicConfig(level=logging.DEBUG)\n",
    "\n",
    "logging.critical('critical')\n",
    "logging.error('error')\n",
    "logging.warning('warning')\n",
    "logging.info('info')\n",
    "logging.debug('debug')"
   ]
  },
  {
   "cell_type": "code",
   "execution_count": 36,
   "metadata": {},
   "outputs": [
    {
     "name": "stderr",
     "output_type": "stream",
     "text": [
      "CRITICAL:root:critical\n",
      "ERROR:root:error\n",
      "WARNING:root:warning\n"
     ]
    }
   ],
   "source": [
    "# File Output\n",
    "import logging\n",
    "\n",
    "logging.basicConfig(level=logging.DEBUG, filename='Day010/sample.log')\n",
    "\n",
    "logging.critical('critical')\n",
    "logging.error('error')\n",
    "logging.warning('warning')\n",
    "logging.info('info')\n",
    "logging.debug('debug')"
   ]
  },
  {
   "cell_type": "code",
   "execution_count": 39,
   "metadata": {},
   "outputs": [
    {
     "name": "stderr",
     "output_type": "stream",
     "text": [
      "DEBUG:__main__:debug\n"
     ]
    }
   ],
   "source": [
    "# Logger\n",
    "import logging\n",
    "\n",
    "logging.basicConfig(level=logging.INFO)\n",
    "\n",
    "logger = logging.getLogger(__name__)\n",
    "logger.setLevel(logging.DEBUG)\n",
    "logger.debug('debug')"
   ]
  }
 ],
 "metadata": {
  "kernelspec": {
   "display_name": "Python 3",
   "language": "python",
   "name": "python3"
  },
  "language_info": {
   "codemirror_mode": {
    "name": "ipython",
    "version": 3
   },
   "file_extension": ".py",
   "mimetype": "text/x-python",
   "name": "python",
   "nbconvert_exporter": "python",
   "pygments_lexer": "ipython3",
   "version": "3.12.1"
  }
 },
 "nbformat": 4,
 "nbformat_minor": 2
}
