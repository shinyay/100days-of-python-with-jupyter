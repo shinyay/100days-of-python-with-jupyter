{
 "cells": [
  {
   "cell_type": "markdown",
   "metadata": {},
   "source": [
    "# Day 10 - Config and Logging"
   ]
  },
  {
   "cell_type": "code",
   "execution_count": 3,
   "metadata": {},
   "outputs": [],
   "source": [
    "# write a config\n",
    "import configparser\n",
    "import os\n",
    "\n",
    "if not os.path.exists('Day010'):\n",
    "    os.makedirs('Day010')\n",
    "\n",
    "config = configparser.ConfigParser()\n",
    "config['DEFAULT'] = {\n",
    "    'debug': True\n",
    "}\n",
    "config['web_server'] = {\n",
    "    'host': '127.0.0.1',\n",
    "    'port': 80\n",
    "}\n",
    "config['db_server'] = {\n",
    "    'host': '127.0.0.1',\n",
    "    'port': 3306    \n",
    "}\n",
    "with open('Day010/config.ini', 'w') as config_file:\n",
    "    config.write(config_file)"
   ]
  },
  {
   "cell_type": "code",
   "execution_count": 5,
   "metadata": {},
   "outputs": [
    {
     "name": "stdout",
     "output_type": "stream",
     "text": [
      "<Section: DEFAULT>\n",
      "True\n"
     ]
    }
   ],
   "source": [
    "#read a cofnig\n",
    "import configparser\n",
    "import os\n",
    "\n",
    "config = configparser.ConfigParser()\n",
    "config.read('Day010/config.ini')\n",
    "print(config['DEFAULT'])\n",
    "print(config['DEFAULT']['debug'])"
   ]
  }
 ],
 "metadata": {
  "kernelspec": {
   "display_name": "Python 3",
   "language": "python",
   "name": "python3"
  },
  "language_info": {
   "codemirror_mode": {
    "name": "ipython",
    "version": 3
   },
   "file_extension": ".py",
   "mimetype": "text/x-python",
   "name": "python",
   "nbconvert_exporter": "python",
   "pygments_lexer": "ipython3",
   "version": "3.12.1"
  }
 },
 "nbformat": 4,
 "nbformat_minor": 2
}
