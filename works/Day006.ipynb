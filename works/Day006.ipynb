{
 "cells": [
  {
   "cell_type": "markdown",
   "metadata": {},
   "source": [
    "# Day 6 - Object and Class"
   ]
  },
  {
   "cell_type": "markdown",
   "metadata": {},
   "source": [
    "## Class and Method\n",
    "In Python, a class is a blueprint for creating objects. It allows you to bundle data and functionality together."
   ]
  },
  {
   "cell_type": "code",
   "execution_count": 1,
   "metadata": {},
   "outputs": [
    {
     "name": "stdout",
     "output_type": "stream",
     "text": [
      "Hello from Person\n"
     ]
    }
   ],
   "source": [
    "# Class\n",
    "class Person:\n",
    "    # Method\n",
    "    def say_hello(self):\n",
    "        print('Hello from Person')\n",
    "\n",
    "me = Person()\n",
    "me.say_hello()"
   ]
  },
  {
   "cell_type": "markdown",
   "metadata": {},
   "source": [
    "### `self`\n",
    "\n",
    "In Python, self is a convention (not a keyword) that is commonly used as the first parameter name in the method definition of a class. It represents the instance of the class, allowing you to access and modify the instance's attributes within the class.\n",
    "\n",
    "When you define a method inside a class, the first parameter should always be self, even though you don't explicitly pass it when calling the method. Python automatically passes the instance of the class as the first argument when you call a method on an object."
   ]
  },
  {
   "cell_type": "code",
   "execution_count": 2,
   "metadata": {},
   "outputs": [
    {
     "name": "stdout",
     "output_type": "stream",
     "text": [
      "Initialize something...\n"
     ]
    }
   ],
   "source": [
    "class Person:\n",
    "    def __init__(self):\n",
    "        print('Initialize something...')\n",
    "\n",
    "me = Person()"
   ]
  },
  {
   "cell_type": "markdown",
   "metadata": {},
   "source": [
    "### `__init__`\n",
    "\n",
    "The __init__ method in Python is a special method that is automatically called when an object is created from a class. It stands for \"initialize\" and is commonly used to set up the initial state of an object by initializing its attributes."
   ]
  },
  {
   "cell_type": "code",
   "execution_count": 3,
   "metadata": {},
   "outputs": [
    {
     "name": "stdout",
     "output_type": "stream",
     "text": [
      "Initialize something...\n",
      "Shinya\n"
     ]
    }
   ],
   "source": [
    "class Person:\n",
    "    # Instance variable: first_name\n",
    "    def __init__(self, first_name):\n",
    "        self.name = first_name\n",
    "        print('Initialize something...')\n",
    "        print(self.name)\n",
    "\n",
    "me = Person('Shinya')"
   ]
  },
  {
   "cell_type": "markdown",
   "metadata": {},
   "source": [
    "### Instance variables\n",
    "\n",
    "Instance variables are attributes that belong to a specific instance of a class. They are defined within the `__init__` method and are assigned values using the `self` reference. These variables store data that is unique to each instance of the class."
   ]
  },
  {
   "cell_type": "code",
   "execution_count": 6,
   "metadata": {},
   "outputs": [
    {
     "name": "stdout",
     "output_type": "stream",
     "text": [
      "Initialize something...\n",
      "John\n",
      "Initialize something...\n",
      "Shinya\n",
      "Hello from Shinya\n"
     ]
    }
   ],
   "source": [
    "class Person:\n",
    "    # Default value for Instance variable\n",
    "    def __init__(self, first_name = 'John'):\n",
    "        self.name = first_name\n",
    "        print('Initialize something...')\n",
    "        print(self.name)\n",
    "    \n",
    "    def say_hello(self):\n",
    "        print('Hello from {}'.format(self.name))\n",
    "\n",
    "someone = Person()\n",
    "me = Person('Shinya')\n",
    "me.say_hello()"
   ]
  },
  {
   "cell_type": "markdown",
   "metadata": {},
   "source": [
    "### `Destructor`\n",
    "\n",
    "\"destructor\" is often used in the context of object-oriented programming to refer to a special method called `__del__`. The `__del__` method is used to define the actions that should be performed when an object is about to be destroyed or deleted."
   ]
  },
  {
   "cell_type": "code",
   "execution_count": 8,
   "metadata": {},
   "outputs": [
    {
     "name": "stdout",
     "output_type": "stream",
     "text": [
      "Initialize something...\n",
      "John\n",
      "Bye\n"
     ]
    }
   ],
   "source": [
    "class Person:\n",
    "    def __init__(self, first_name = 'John'):\n",
    "        self.name = first_name\n",
    "        print('Initialize something...')\n",
    "        print(self.name)\n",
    "\n",
    "    def __del__(selef):\n",
    "        print('Bye')\n",
    "\n",
    "    def say_hello(self):\n",
    "        print('Hello from {}'.format(self.name))\n",
    "\n",
    "someone = Person()"
   ]
  },
  {
   "cell_type": "markdown",
   "metadata": {},
   "source": [
    "### Inheritance\n",
    "\n",
    "Inheritance is a fundamental concept in object-oriented programming (OOP) that allows a new class, called a \"subclass\" or \"derived class,\" to inherit attributes and behaviors from an existing class, known as a \"base class\" or \"parent class.\""
   ]
  },
  {
   "cell_type": "code",
   "execution_count": 9,
   "metadata": {},
   "outputs": [
    {
     "name": "stdout",
     "output_type": "stream",
     "text": [
      "...\n",
      "...\n"
     ]
    }
   ],
   "source": [
    "# Base class\n",
    "class Animal:\n",
    "    def __init__(self) -> None:\n",
    "        pass\n",
    "\n",
    "    def make_sound(self):\n",
    "        print('...')\n",
    "\n",
    "# Sub class\n",
    "class Dog(Animal):\n",
    "    def __init__(self) -> None:\n",
    "        super().__init__()\n",
    "\n",
    "something = Animal()\n",
    "something.make_sound()\n",
    "\n",
    "my_dog = Dog()\n",
    "my_dog.make_sound()"
   ]
  },
  {
   "cell_type": "code",
   "execution_count": 12,
   "metadata": {},
   "outputs": [
    {
     "name": "stdout",
     "output_type": "stream",
     "text": [
      "...\n",
      "Woof\n",
      "...\n"
     ]
    }
   ],
   "source": [
    "# Base class\n",
    "class Animal:\n",
    "    def __init__(self) -> None:\n",
    "        pass\n",
    "\n",
    "    def make_sound(self):\n",
    "        print('...')\n",
    "\n",
    "# Sub class\n",
    "class Dog(Animal):\n",
    "    def __init__(self) -> None:\n",
    "        super().__init__()\n",
    "    \n",
    "    def make_sound(self):\n",
    "        print('Woof')\n",
    "    \n",
    "    def make_ancestor_sound(self):\n",
    "        super().make_sound()\n",
    "\n",
    "something = Animal()\n",
    "something.make_sound()\n",
    "\n",
    "my_dog = Dog()\n",
    "my_dog.make_sound()\n",
    "my_dog.make_ancestor_sound()"
   ]
  },
  {
   "cell_type": "markdown",
   "metadata": {},
   "source": [
    "## Class and more"
   ]
  },
  {
   "cell_type": "markdown",
   "metadata": {},
   "source": [
    "### Property\n",
    "\n",
    "`@property` is a decorator used to define a special kind of method known as a property method. Properties allow you to access and manipulate class attributes in a way that looks like you are directly accessing an attribute, but behind the scenes, you are executing a method."
   ]
  },
  {
   "cell_type": "code",
   "execution_count": 21,
   "metadata": {},
   "outputs": [
    {
     "name": "stdout",
     "output_type": "stream",
     "text": [
      "5\n",
      "16\n"
     ]
    }
   ],
   "source": [
    "class Circle:\n",
    "    def __init__(self, radius):\n",
    "        self._radius = radius\n",
    "        self.non_property = radius\n",
    "\n",
    "    # Getter\n",
    "    @property\n",
    "    def radius(self):\n",
    "        return self._radius\n",
    "\n",
    "    # Setter\n",
    "    @radius.setter\n",
    "    def radius(self, value):\n",
    "        if value < 0:\n",
    "            raise ValueError(\"Radius cannot be negative.\")\n",
    "        self._radius = value\n",
    "\n",
    "    @property\n",
    "    def diameter(self):\n",
    "        return 2 * self._radius\n",
    "\n",
    "circle = Circle(radius=5)\n",
    "print(circle.radius)\n",
    "\n",
    "circle.radius = 8\n",
    "print(circle.diameter) \n",
    "\n",
    "circle.non_property = \"something\""
   ]
  },
  {
   "cell_type": "markdown",
   "metadata": {},
   "source": [
    "The use of a single underscore (`_`) or a double underscore (`__`) as a prefix to an attribute name is a convention, and it conveys information about the attribute's visibility and intended use.\n",
    "\n",
    "1. **Single Underscore (`_`):**\n",
    "   - A single leading underscore is a convention indicating that an attribute is intended to be protected.\n",
    "   - It is a signal to other developers that the attribute is considered internal to the class or module, and its use should be avoided outside of its intended scope.\n",
    "   - It doesn't provide any strict enforcement; it's more of a suggestion or convention.\n",
    "\n",
    "   Example:\n",
    "   ```python\n",
    "   class MyClass:\n",
    "       def __init__(self):\n",
    "           self._protected_attribute = 1\n",
    "   ```\n",
    "\n",
    "2. **Double Underscore (`__`):**\n",
    "   - A double leading underscore triggers name mangling, which changes the name of the attribute to include the class name, making it more difficult to accidentally override in subclasses.\n",
    "   - It provides a stronger level of protection compared to a single underscore, but it's still not a strict access control mechanism.\n",
    "   \n",
    "   Example:\n",
    "   ```python\n",
    "   class MyClass:\n",
    "       def __init__(self):\n",
    "           self.__mangled_attribute = 2\n",
    "   ```\n",
    "\n",
    "When using the `@property` decorator, it's common to use a single leading underscore to indicate that the associated attribute is intended to be protected. This aligns with the convention of using a single underscore for protected attributes.\n",
    "\n",
    "Example with `@property` and a single underscore:\n",
    "```python\n",
    "class Circle:\n",
    "    def __init__(self, radius):\n",
    "        self._radius = radius\n",
    "\n",
    "    @property\n",
    "    def radius(self):\n",
    "        return self._radius\n",
    "\n",
    "    @radius.setter\n",
    "    def radius(self, value):\n",
    "        if value < 0:\n",
    "            raise ValueError(\"Radius cannot be negative.\")\n",
    "        self._radius = value\n",
    "```"
   ]
  },
  {
   "cell_type": "markdown",
   "metadata": {},
   "source": [
    "## Duck typing\n",
    "\n",
    "Duck typing is a concept in programming languages, including Python, that focuses on an object's behavior rather than its type. The idea is derived from the saying, \"If it looks like a duck, swims like a duck, and quacks like a duck, then it probably is a duck.\" In the context of programming, duck typing allows you to use an object based on its methods and properties rather than its explicit type or class.\n",
    "\n",
    "In duck typing, the suitability of an object for a particular operation is determined by the presence of certain methods or properties rather than its inheritance or class. This promotes flexibility and code reuse, as you can work with any object that provides the required behavior, regardless of its actual class or type."
   ]
  },
  {
   "cell_type": "code",
   "execution_count": null,
   "metadata": {},
   "outputs": [],
   "source": [
    "class Dog:\n",
    "    def speak(self):\n",
    "        return \"Woof!\"\n",
    "\n",
    "class Cat:\n",
    "    def speak(self):\n",
    "        return \"Meow!\"\n",
    "\n",
    "class Duck:\n",
    "    def speak(self):\n",
    "        return \"Quack!\"\n",
    "\n",
    "# A function that expects an object with a 'speak' method\n",
    "# The function doesn't care about the actual class of the object\n",
    "# It only relies on the fact that the object has a speak method.\n",
    "def make_speak(animal):\n",
    "    return animal.speak()\n",
    "\n",
    "# Creating instances of different classes\n",
    "dog = Dog()\n",
    "cat = Cat()\n",
    "duck = Duck()\n",
    "\n",
    "# Using the make_speak function with different objects\n",
    "print(make_speak(dog))   # Output: Woof!\n",
    "print(make_speak(cat))   # Output: Meow!\n",
    "print(make_speak(duck))  # Output: Quack!\n"
   ]
  }
 ],
 "metadata": {
  "kernelspec": {
   "display_name": "Python 3",
   "language": "python",
   "name": "python3"
  },
  "language_info": {
   "codemirror_mode": {
    "name": "ipython",
    "version": 3
   },
   "file_extension": ".py",
   "mimetype": "text/x-python",
   "name": "python",
   "nbconvert_exporter": "python",
   "pygments_lexer": "ipython3",
   "version": "3.12.1"
  }
 },
 "nbformat": 4,
 "nbformat_minor": 2
}
