{
 "cells": [
  {
   "cell_type": "markdown",
   "metadata": {},
   "source": [
    "# Day 6 - Object and Class"
   ]
  },
  {
   "cell_type": "markdown",
   "metadata": {},
   "source": [
    "## Class and Method\n",
    "In Python, a class is a blueprint for creating objects. It allows you to bundle data and functionality together."
   ]
  },
  {
   "cell_type": "code",
   "execution_count": 1,
   "metadata": {},
   "outputs": [
    {
     "name": "stdout",
     "output_type": "stream",
     "text": [
      "Hello from Person\n"
     ]
    }
   ],
   "source": [
    "# Class\n",
    "class Person:\n",
    "    # Method\n",
    "    def say_hello(self):\n",
    "        print('Hello from Person')\n",
    "\n",
    "me = Person()\n",
    "me.say_hello()"
   ]
  },
  {
   "cell_type": "markdown",
   "metadata": {},
   "source": [
    "### `self`\n",
    "\n",
    "In Python, self is a convention (not a keyword) that is commonly used as the first parameter name in the method definition of a class. It represents the instance of the class, allowing you to access and modify the instance's attributes within the class.\n",
    "\n",
    "When you define a method inside a class, the first parameter should always be self, even though you don't explicitly pass it when calling the method. Python automatically passes the instance of the class as the first argument when you call a method on an object."
   ]
  },
  {
   "cell_type": "code",
   "execution_count": 2,
   "metadata": {},
   "outputs": [
    {
     "name": "stdout",
     "output_type": "stream",
     "text": [
      "Initialize something...\n"
     ]
    }
   ],
   "source": [
    "class Person:\n",
    "    def __init__(self):\n",
    "        print('Initialize something...')\n",
    "\n",
    "me = Person()"
   ]
  },
  {
   "cell_type": "markdown",
   "metadata": {},
   "source": [
    "### `__init__`\n",
    "\n",
    "The __init__ method in Python is a special method that is automatically called when an object is created from a class. It stands for \"initialize\" and is commonly used to set up the initial state of an object by initializing its attributes."
   ]
  },
  {
   "cell_type": "code",
   "execution_count": 3,
   "metadata": {},
   "outputs": [
    {
     "name": "stdout",
     "output_type": "stream",
     "text": [
      "Initialize something...\n",
      "Shinya\n"
     ]
    }
   ],
   "source": [
    "class Person:\n",
    "    # Instance variable: first_name\n",
    "    def __init__(self, first_name):\n",
    "        self.name = first_name\n",
    "        print('Initialize something...')\n",
    "        print(self.name)\n",
    "\n",
    "me = Person('Shinya')"
   ]
  },
  {
   "cell_type": "markdown",
   "metadata": {},
   "source": [
    "### Instance variables\n",
    "\n",
    "Instance variables are attributes that belong to a specific instance of a class. They are defined within the `__init__` method and are assigned values using the `self` reference. These variables store data that is unique to each instance of the class."
   ]
  },
  {
   "cell_type": "code",
   "execution_count": 6,
   "metadata": {},
   "outputs": [
    {
     "name": "stdout",
     "output_type": "stream",
     "text": [
      "Initialize something...\n",
      "John\n",
      "Initialize something...\n",
      "Shinya\n",
      "Hello from Shinya\n"
     ]
    }
   ],
   "source": [
    "class Person:\n",
    "    # Default value for Instance variable\n",
    "    def __init__(self, first_name = 'John'):\n",
    "        self.name = first_name\n",
    "        print('Initialize something...')\n",
    "        print(self.name)\n",
    "    \n",
    "    def say_hello(self):\n",
    "        print('Hello from {}'.format(self.name))\n",
    "\n",
    "someone = Person()\n",
    "me = Person('Shinya')\n",
    "me.say_hello()"
   ]
  },
  {
   "cell_type": "markdown",
   "metadata": {},
   "source": [
    "### `Destructor`\n",
    "\n",
    "\"destructor\" is often used in the context of object-oriented programming to refer to a special method called `__del__`. The `__del__` method is used to define the actions that should be performed when an object is about to be destroyed or deleted."
   ]
  },
  {
   "cell_type": "code",
   "execution_count": 8,
   "metadata": {},
   "outputs": [
    {
     "name": "stdout",
     "output_type": "stream",
     "text": [
      "Initialize something...\n",
      "John\n",
      "Bye\n"
     ]
    }
   ],
   "source": [
    "class Person:\n",
    "    def __init__(self, first_name = 'John'):\n",
    "        self.name = first_name\n",
    "        print('Initialize something...')\n",
    "        print(self.name)\n",
    "\n",
    "    def __del__(selef):\n",
    "        print('Bye')\n",
    "\n",
    "    def say_hello(self):\n",
    "        print('Hello from {}'.format(self.name))\n",
    "\n",
    "someone = Person()"
   ]
  },
  {
   "cell_type": "markdown",
   "metadata": {},
   "source": [
    "### Inheritance\n",
    "\n",
    "Inheritance is a fundamental concept in object-oriented programming (OOP) that allows a new class, called a \"subclass\" or \"derived class,\" to inherit attributes and behaviors from an existing class, known as a \"base class\" or \"parent class.\""
   ]
  },
  {
   "cell_type": "code",
   "execution_count": 9,
   "metadata": {},
   "outputs": [
    {
     "name": "stdout",
     "output_type": "stream",
     "text": [
      "...\n",
      "...\n"
     ]
    }
   ],
   "source": [
    "# Base class\n",
    "class Animal:\n",
    "    def __init__(self) -> None:\n",
    "        pass\n",
    "\n",
    "    def make_sound(self):\n",
    "        print('...')\n",
    "\n",
    "# Sub class\n",
    "class Dog(Animal):\n",
    "    def __init__(self) -> None:\n",
    "        super().__init__()\n",
    "\n",
    "something = Animal()\n",
    "something.make_sound()\n",
    "\n",
    "my_dog = Dog()\n",
    "my_dog.make_sound()"
   ]
  },
  {
   "cell_type": "code",
   "execution_count": 12,
   "metadata": {},
   "outputs": [
    {
     "name": "stdout",
     "output_type": "stream",
     "text": [
      "...\n",
      "Woof\n",
      "...\n"
     ]
    }
   ],
   "source": [
    "# Base class\n",
    "class Animal:\n",
    "    def __init__(self) -> None:\n",
    "        pass\n",
    "\n",
    "    def make_sound(self):\n",
    "        print('...')\n",
    "\n",
    "# Sub class\n",
    "class Dog(Animal):\n",
    "    def __init__(self) -> None:\n",
    "        super().__init__()\n",
    "    \n",
    "    def make_sound(self):\n",
    "        print('Woof')\n",
    "    \n",
    "    def make_ancestor_sound(self):\n",
    "        super().make_sound()\n",
    "\n",
    "something = Animal()\n",
    "something.make_sound()\n",
    "\n",
    "my_dog = Dog()\n",
    "my_dog.make_sound()\n",
    "my_dog.make_ancestor_sound()"
   ]
  },
  {
   "cell_type": "markdown",
   "metadata": {},
   "source": [
    "## Class and more"
   ]
  },
  {
   "cell_type": "markdown",
   "metadata": {},
   "source": [
    "### Property\n",
    "\n",
    "`@property` is a decorator used to define a special kind of method known as a property method. Properties allow you to access and manipulate class attributes in a way that looks like you are directly accessing an attribute, but behind the scenes, you are executing a method."
   ]
  },
  {
   "cell_type": "code",
   "execution_count": 21,
   "metadata": {},
   "outputs": [
    {
     "name": "stdout",
     "output_type": "stream",
     "text": [
      "5\n",
      "16\n"
     ]
    }
   ],
   "source": [
    "class Circle:\n",
    "    def __init__(self, radius):\n",
    "        self._radius = radius\n",
    "        self.non_property = radius\n",
    "\n",
    "    # Getter\n",
    "    @property\n",
    "    def radius(self):\n",
    "        return self._radius\n",
    "\n",
    "    # Setter\n",
    "    @radius.setter\n",
    "    def radius(self, value):\n",
    "        if value < 0:\n",
    "            raise ValueError(\"Radius cannot be negative.\")\n",
    "        self._radius = value\n",
    "\n",
    "    @property\n",
    "    def diameter(self):\n",
    "        return 2 * self._radius\n",
    "\n",
    "circle = Circle(radius=5)\n",
    "print(circle.radius)\n",
    "\n",
    "circle.radius = 8\n",
    "print(circle.diameter) \n",
    "\n",
    "circle.non_property = \"something\""
   ]
  },
  {
   "cell_type": "markdown",
   "metadata": {},
   "source": [
    "The use of a single underscore (`_`) or a double underscore (`__`) as a prefix to an attribute name is a convention, and it conveys information about the attribute's visibility and intended use.\n",
    "\n",
    "1. **Single Underscore (`_`):**\n",
    "   - A single leading underscore is a convention indicating that an attribute is intended to be protected.\n",
    "   - It is a signal to other developers that the attribute is considered internal to the class or module, and its use should be avoided outside of its intended scope.\n",
    "   - It doesn't provide any strict enforcement; it's more of a suggestion or convention.\n",
    "\n",
    "   Example:\n",
    "   ```python\n",
    "   class MyClass:\n",
    "       def __init__(self):\n",
    "           self._protected_attribute = 1\n",
    "   ```\n",
    "\n",
    "2. **Double Underscore (`__`):**\n",
    "   - A double leading underscore triggers name mangling, which changes the name of the attribute to include the class name, making it more difficult to accidentally override in subclasses.\n",
    "   - It provides a stronger level of protection compared to a single underscore, but it's still not a strict access control mechanism.\n",
    "   \n",
    "   Example:\n",
    "   ```python\n",
    "   class MyClass:\n",
    "       def __init__(self):\n",
    "           self.__mangled_attribute = 2\n",
    "   ```\n",
    "\n",
    "When using the `@property` decorator, it's common to use a single leading underscore to indicate that the associated attribute is intended to be protected. This aligns with the convention of using a single underscore for protected attributes.\n",
    "\n",
    "Example with `@property` and a single underscore:\n",
    "```python\n",
    "class Circle:\n",
    "    def __init__(self, radius):\n",
    "        self._radius = radius\n",
    "\n",
    "    @property\n",
    "    def radius(self):\n",
    "        return self._radius\n",
    "\n",
    "    @radius.setter\n",
    "    def radius(self, value):\n",
    "        if value < 0:\n",
    "            raise ValueError(\"Radius cannot be negative.\")\n",
    "        self._radius = value\n",
    "```"
   ]
  },
  {
   "cell_type": "markdown",
   "metadata": {},
   "source": [
    "## Duck typing\n",
    "\n",
    "Duck typing is a concept in programming languages, including Python, that focuses on an object's behavior rather than its type. The idea is derived from the saying, \"If it looks like a duck, swims like a duck, and quacks like a duck, then it probably is a duck.\" In the context of programming, duck typing allows you to use an object based on its methods and properties rather than its explicit type or class.\n",
    "\n",
    "In duck typing, the suitability of an object for a particular operation is determined by the presence of certain methods or properties rather than its inheritance or class. This promotes flexibility and code reuse, as you can work with any object that provides the required behavior, regardless of its actual class or type.\n",
    "\n",
    "**Duck typing** is a dynamic typing concept, and it contrasts with static typing where the compatibility of types is checked at compile-time. Python, being a dynamically typed language, embraces duck typing, allowing for more flexibility and ease of development."
   ]
  },
  {
   "cell_type": "code",
   "execution_count": null,
   "metadata": {},
   "outputs": [],
   "source": [
    "class Dog:\n",
    "    def speak(self):\n",
    "        return \"Woof!\"\n",
    "\n",
    "class Cat:\n",
    "    def speak(self):\n",
    "        return \"Meow!\"\n",
    "\n",
    "class Duck:\n",
    "    def speak(self):\n",
    "        return \"Quack!\"\n",
    "\n",
    "# A function that expects an object with a 'speak' method\n",
    "# The function doesn't care about the actual class of the object\n",
    "# It only relies on the fact that the object has a speak method.\n",
    "def make_speak(animal):\n",
    "    return animal.speak()\n",
    "\n",
    "# Creating instances of different classes\n",
    "dog = Dog()\n",
    "cat = Cat()\n",
    "duck = Duck()\n",
    "\n",
    "# Using the make_speak function with different objects\n",
    "print(make_speak(dog))   # Output: Woof!\n",
    "print(make_speak(cat))   # Output: Meow!\n",
    "print(make_speak(duck))  # Output: Quack!\n"
   ]
  },
  {
   "cell_type": "markdown",
   "metadata": {},
   "source": [
    "## Abstract Class\n",
    "\n",
    "An abstract class is a class that cannot be instantiated on its own and is meant to be subclassed by other classes. It serves as a blueprint for other classes and may define abstract methods, which are methods that have no implementation in the abstract class and must be implemented by its subclasses. Abstract classes are created using the `ABC` (Abstract Base Class) module in Python.\n",
    "\n",
    "- [abc — Abstract Base Classes](https://docs.python.org/3/library/abc.html)"
   ]
  },
  {
   "cell_type": "code",
   "execution_count": 25,
   "metadata": {},
   "outputs": [
    {
     "data": {
      "text/plain": [
       "'Woof!'"
      ]
     },
     "execution_count": 25,
     "metadata": {},
     "output_type": "execute_result"
    }
   ],
   "source": [
    "from abc import ABC, abstractmethod\n",
    "\n",
    "class Animal(ABC):\n",
    "    @abstractmethod\n",
    "    def sound(self):\n",
    "        pass\n",
    "\n",
    "class Dog(Animal):\n",
    "    def sound(self):\n",
    "        return \"Woof!\"\n",
    "\n",
    "# TypeError: Can't instantiate abstract class Animal\n",
    "#  without an implementation for abstract method 'sound'    \n",
    "# my_animal = Animal()\n",
    "\n",
    "my_dog = Dog()\n",
    "my_dog.sound()"
   ]
  },
  {
   "cell_type": "markdown",
   "metadata": {},
   "source": [
    "## Multiple inheritance\n",
    "\n",
    "In Java, a class can inherit from only one class (single inheritance). This restriction is enforced by the language specification. However, a class in Java can implement multiple interfaces, providing a form of multiple inheritance through interface implementation.\n",
    "\n",
    "In contrast, Python allows for multiple inheritance, where a class can inherit from more than one class. This is a powerful feature but should be used carefully to avoid potential issues such as the diamond problem, where a class inherits from two classes that have a common ancestor. Python resolves the diamond problem by using a **method resolution order (MRO)** algorithm.\n",
    "\n",
    "- [Method Resolution Order](https://www.python.org/download/releases/2.3/mro/)"
   ]
  },
  {
   "cell_type": "code",
   "execution_count": null,
   "metadata": {},
   "outputs": [],
   "source": [
    "class Animal:\n",
    "    def speak(self):\n",
    "        pass\n",
    "\n",
    "class Mammal(Animal):\n",
    "    def give_birth(self):\n",
    "        pass\n",
    "\n",
    "class Bird(Animal):\n",
    "    def lay_eggs(self):\n",
    "        pass\n",
    "\n",
    "class Platypus(Mammal, Bird):\n",
    "    pass\n",
    "\n",
    "platypus = Platypus()\n",
    "\n",
    "# Calling methods from both parent classes\n",
    "platypus.speak()        # Inherits from Animal\n",
    "platypus.give_birth()   # Inherits from Mammal\n",
    "platypus.lay_eggs()     # Inherits from Bird"
   ]
  },
  {
   "cell_type": "markdown",
   "metadata": {},
   "source": [
    "## Class variable\n",
    "\n",
    "Class variable is a variable that is shared by all instances (objects) of a class. Unlike instance variables, which are specific to each instance of a class, a class variable is associated with the class itself. Class variables are declared within the class but outside of any methods."
   ]
  },
  {
   "cell_type": "code",
   "execution_count": 2,
   "metadata": {},
   "outputs": [
    {
     "name": "stdout",
     "output_type": "stream",
     "text": [
      "Total cars: 2\n"
     ]
    }
   ],
   "source": [
    "class Car:\n",
    "    # Class variable\n",
    "    total_cars = 0\n",
    "\n",
    "    def __init__(self, make, model):\n",
    "        # Instance variables\n",
    "        self.make = make\n",
    "        self.model = model\n",
    "\n",
    "        Car.total_cars += 1\n",
    "\n",
    "car1 = Car(\"Toyota\", \"Camry\")\n",
    "car2 = Car(\"Honda\", \"Civic\")\n",
    "\n",
    "print(\"Total cars:\", Car.total_cars)"
   ]
  },
  {
   "cell_type": "markdown",
   "metadata": {},
   "source": [
    "## Class method\n",
    "\n",
    "Class method is a method that is bound to the class and not the instance of the class. It takes the class itself as its first parameter, conventionally named `cls`. Class methods are defined using the `@classmethod` decorator."
   ]
  },
  {
   "cell_type": "code",
   "execution_count": 5,
   "metadata": {},
   "outputs": [
    {
     "name": "stdout",
     "output_type": "stream",
     "text": [
      "1\n",
      "2\n",
      "0\n",
      "0\n",
      "1\n",
      "2\n",
      "3\n",
      "3\n"
     ]
    }
   ],
   "source": [
    "class MyClass:\n",
    "    # Class variable\n",
    "    class_variable = 0\n",
    "\n",
    "    def __init__(self, value):\n",
    "        # Instance variable\n",
    "        self.instance_variable = value\n",
    "\n",
    "    # Class method, see cls, not self\n",
    "    @classmethod\n",
    "    def increment_class_variable(cls, amount):\n",
    "        cls.class_variable += amount\n",
    "\n",
    "my_object1 = MyClass(1)\n",
    "my_object2 = MyClass(2)\n",
    "\n",
    "print(my_object1.instance_variable)\n",
    "print(my_object2.instance_variable)\n",
    "print(my_object1.class_variable)\n",
    "print(my_object2.class_variable)\n",
    "\n",
    "my_object1.increment_class_variable(1)\n",
    "my_object2.increment_class_variable(2)\n",
    "\n",
    "print(my_object1.instance_variable)\n",
    "print(my_object2.instance_variable)\n",
    "print(my_object1.class_variable)\n",
    "print(my_object2.class_variable)"
   ]
  },
  {
   "cell_type": "markdown",
   "metadata": {},
   "source": [
    "## Static method\n",
    "\n",
    "Static method is a method that belongs to a class rather than an instance of the class. It is defined using the `@staticmethod` decorator, and it does not have access to the instance or the class itself as its first parameter. Unlike instance methods and class methods, static methods do not have access to instance-specific or class-specific attributes."
   ]
  },
  {
   "cell_type": "code",
   "execution_count": 10,
   "metadata": {},
   "outputs": [
    {
     "ename": "UnboundLocalError",
     "evalue": "cannot access local variable 'class_variable' where it is not associated with a value",
     "output_type": "error",
     "traceback": [
      "\u001b[0;31m---------------------------------------------------------------------------\u001b[0m",
      "\u001b[0;31mUnboundLocalError\u001b[0m                         Traceback (most recent call last)",
      "Cell \u001b[0;32mIn[10], line 16\u001b[0m\n\u001b[1;32m     13\u001b[0m my_object1 \u001b[38;5;241m=\u001b[39m MyClass(\u001b[38;5;241m1\u001b[39m)\n\u001b[1;32m     14\u001b[0m my_object2 \u001b[38;5;241m=\u001b[39m MyClass(\u001b[38;5;241m2\u001b[39m)\n\u001b[0;32m---> 16\u001b[0m \u001b[43mmy_object1\u001b[49m\u001b[38;5;241;43m.\u001b[39;49m\u001b[43mincrement_class_variable\u001b[49m\u001b[43m(\u001b[49m\u001b[38;5;241;43m1\u001b[39;49m\u001b[43m)\u001b[49m\n\u001b[1;32m     17\u001b[0m my_object2\u001b[38;5;241m.\u001b[39mincrement_class_variable(\u001b[38;5;241m2\u001b[39m)\n\u001b[1;32m     19\u001b[0m \u001b[38;5;28mprint\u001b[39m(my_object1\u001b[38;5;241m.\u001b[39minstance_variable)\n",
      "Cell \u001b[0;32mIn[10], line 11\u001b[0m, in \u001b[0;36mMyClass.increment_class_variable\u001b[0;34m(amount)\u001b[0m\n\u001b[1;32m      9\u001b[0m \u001b[38;5;129m@staticmethod\u001b[39m\n\u001b[1;32m     10\u001b[0m \u001b[38;5;28;01mdef\u001b[39;00m \u001b[38;5;21mincrement_class_variable\u001b[39m(amount):\n\u001b[0;32m---> 11\u001b[0m     \u001b[43mclass_variable\u001b[49m \u001b[38;5;241m+\u001b[39m\u001b[38;5;241m=\u001b[39m amount\n",
      "\u001b[0;31mUnboundLocalError\u001b[0m: cannot access local variable 'class_variable' where it is not associated with a value"
     ]
    }
   ],
   "source": [
    "class MyClass:\n",
    "    # Class variable\n",
    "    class_variable = 0\n",
    "\n",
    "    def __init__(self, value):\n",
    "        # Instance variable\n",
    "        self.instance_variable = value\n",
    "\n",
    "    @staticmethod\n",
    "    def increment_class_variable(amount):\n",
    "        class_variable += amount\n",
    "\n",
    "my_object1 = MyClass(1)\n",
    "my_object2 = MyClass(2)\n",
    "\n",
    "my_object1.increment_class_variable(1)\n",
    "my_object2.increment_class_variable(2)\n",
    "\n",
    "print(my_object1.instance_variable)\n",
    "print(my_object2.instance_variable)\n",
    "\n",
    "# UnboundLocalError: cannot access local variable 'class_variable'\n",
    "# where it is not associated with a value\n",
    "print(my_object1.class_variable)\n",
    "print(my_object2.class_variable)"
   ]
  },
  {
   "cell_type": "markdown",
   "metadata": {},
   "source": [
    "## Special method\n",
    "\n",
    "Special method is also known as \"magic method\" or \"dunder method\" (due to the double underscores in the name). These methods define how objects of a class behave in various situations. They are invoked by special syntax and provide a way to customize the behavior of objects in Python."
   ]
  },
  {
   "cell_type": "markdown",
   "metadata": {},
   "source": [
    "`__str__`: This method is called by the built-in `str()` function and the `print()` function to obtain a string representation of an object. It is commonly used to provide a human-readable representation of an object."
   ]
  },
  {
   "cell_type": "code",
   "execution_count": 12,
   "metadata": {},
   "outputs": [
    {
     "name": "stdout",
     "output_type": "stream",
     "text": [
      "MyClass instance with value: 10\n"
     ]
    }
   ],
   "source": [
    "class MyClass:\n",
    "    def __init__(self, value):\n",
    "        self.value = value\n",
    "\n",
    "    def __str__(self):\n",
    "        return f\"MyClass instance with value: {self.value}\"\n",
    "\n",
    "obj = MyClass(10)\n",
    "print(obj)\n"
   ]
  },
  {
   "cell_type": "markdown",
   "metadata": {},
   "source": [
    "`__len__`: This method is called by the built-in `len()` function to obtain the length of an object. It is commonly used in classes that represent collections or sequences."
   ]
  },
  {
   "cell_type": "code",
   "execution_count": 15,
   "metadata": {},
   "outputs": [
    {
     "name": "stdout",
     "output_type": "stream",
     "text": [
      "5\n",
      "11\n"
     ]
    }
   ],
   "source": [
    "class MyObject:\n",
    "    def __init__(self, items):\n",
    "        self.items = items\n",
    "\n",
    "    def __len__(self):\n",
    "        return len(self.items)\n",
    "\n",
    "my_list = MyObject([1, 2, 3, 4, 5])\n",
    "print(len(my_list))\n",
    "\n",
    "my_list = MyObject('Hello World')\n",
    "print(len(my_list))\n"
   ]
  },
  {
   "cell_type": "markdown",
   "metadata": {},
   "source": [
    "`__add__`: This method is called when the `+` operator is used with objects of a class. It allows you to define how instances of your class should behave when they are added together."
   ]
  }
 ],
 "metadata": {
  "kernelspec": {
   "display_name": "Python 3",
   "language": "python",
   "name": "python3"
  },
  "language_info": {
   "codemirror_mode": {
    "name": "ipython",
    "version": 3
   },
   "file_extension": ".py",
   "mimetype": "text/x-python",
   "name": "python",
   "nbconvert_exporter": "python",
   "pygments_lexer": "ipython3",
   "version": "3.12.1"
  }
 },
 "nbformat": 4,
 "nbformat_minor": 2
}
