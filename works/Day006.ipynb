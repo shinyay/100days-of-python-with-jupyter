{
 "cells": [
  {
   "cell_type": "markdown",
   "metadata": {},
   "source": [
    "# Day 6 - Object and Class"
   ]
  },
  {
   "cell_type": "markdown",
   "metadata": {},
   "source": [
    "## Class and Method\n",
    "In Python, a class is a blueprint for creating objects. It allows you to bundle data and functionality together."
   ]
  },
  {
   "cell_type": "code",
   "execution_count": 1,
   "metadata": {},
   "outputs": [
    {
     "name": "stdout",
     "output_type": "stream",
     "text": [
      "Hello from Person\n"
     ]
    }
   ],
   "source": [
    "# Class\n",
    "class Person:\n",
    "    # Method\n",
    "    def say_hello(self):\n",
    "        print('Hello from Person')\n",
    "\n",
    "me = Person()\n",
    "me.say_hello()"
   ]
  },
  {
   "cell_type": "markdown",
   "metadata": {},
   "source": [
    "### `self`\n",
    "\n",
    "In Python, self is a convention (not a keyword) that is commonly used as the first parameter name in the method definition of a class. It represents the instance of the class, allowing you to access and modify the instance's attributes within the class.\n",
    "\n",
    "When you define a method inside a class, the first parameter should always be self, even though you don't explicitly pass it when calling the method. Python automatically passes the instance of the class as the first argument when you call a method on an object."
   ]
  },
  {
   "cell_type": "code",
   "execution_count": 2,
   "metadata": {},
   "outputs": [
    {
     "name": "stdout",
     "output_type": "stream",
     "text": [
      "Initialize something...\n"
     ]
    }
   ],
   "source": [
    "class Person:\n",
    "    def __init__(self):\n",
    "        print('Initialize something...')\n",
    "\n",
    "me = Person()"
   ]
  },
  {
   "cell_type": "markdown",
   "metadata": {},
   "source": [
    "### `__init__`\n",
    "\n",
    "The __init__ method in Python is a special method that is automatically called when an object is created from a class. It stands for \"initialize\" and is commonly used to set up the initial state of an object by initializing its attributes."
   ]
  },
  {
   "cell_type": "code",
   "execution_count": 3,
   "metadata": {},
   "outputs": [
    {
     "name": "stdout",
     "output_type": "stream",
     "text": [
      "Initialize something...\n",
      "Shinya\n"
     ]
    }
   ],
   "source": [
    "class Person:\n",
    "    # Instance variable: first_name\n",
    "    def __init__(self, first_name):\n",
    "        self.name = first_name\n",
    "        print('Initialize something...')\n",
    "        print(self.name)\n",
    "\n",
    "me = Person('Shinya')"
   ]
  },
  {
   "cell_type": "markdown",
   "metadata": {},
   "source": [
    "### Instance variables\n",
    "\n",
    "Instance variables are attributes that belong to a specific instance of a class. They are defined within the `__init__` method and are assigned values using the `self` reference. These variables store data that is unique to each instance of the class."
   ]
  },
  {
   "cell_type": "code",
   "execution_count": 6,
   "metadata": {},
   "outputs": [
    {
     "name": "stdout",
     "output_type": "stream",
     "text": [
      "Initialize something...\n",
      "John\n",
      "Initialize something...\n",
      "Shinya\n",
      "Hello from Shinya\n"
     ]
    }
   ],
   "source": [
    "class Person:\n",
    "    # Default value for Instance variable\n",
    "    def __init__(self, first_name = 'John'):\n",
    "        self.name = first_name\n",
    "        print('Initialize something...')\n",
    "        print(self.name)\n",
    "    \n",
    "    def say_hello(self):\n",
    "        print('Hello from {}'.format(self.name))\n",
    "\n",
    "someone = Person()\n",
    "me = Person('Shinya')\n",
    "me.say_hello()"
   ]
  },
  {
   "cell_type": "markdown",
   "metadata": {},
   "source": [
    "### `Destructor`\n",
    "\n",
    "\"destructor\" is often used in the context of object-oriented programming to refer to a special method called `__del__`. The `__del__` method is used to define the actions that should be performed when an object is about to be destroyed or deleted."
   ]
  }
 ],
 "metadata": {
  "kernelspec": {
   "display_name": "Python 3",
   "language": "python",
   "name": "python3"
  },
  "language_info": {
   "codemirror_mode": {
    "name": "ipython",
    "version": 3
   },
   "file_extension": ".py",
   "mimetype": "text/x-python",
   "name": "python",
   "nbconvert_exporter": "python",
   "pygments_lexer": "ipython3",
   "version": "3.12.1"
  }
 },
 "nbformat": 4,
 "nbformat_minor": 2
}
