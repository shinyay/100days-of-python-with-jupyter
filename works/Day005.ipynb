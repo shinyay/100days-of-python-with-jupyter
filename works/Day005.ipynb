{
 "cells": [
  {
   "cell_type": "code",
   "execution_count": null,
   "metadata": {},
   "outputs": [],
   "source": [
    "# Day 5 - Module and Package"
   ]
  },
  {
   "cell_type": "markdown",
   "metadata": {},
   "source": [
    "Module is a file that contains Python code. This code can define variables, functions, classes, or executable code. Modules allow you to organize your Python code into reusable and organized units.\n",
    "\n",
    "Here are some key points about modules:\n",
    "\n",
    "1. **File-Based Organization:** Each Python module is typically stored in a separate file with a `.py` extension. For example, if you have a module named `example_module`, it will be stored in a file named `example_module.py`.\n",
    "\n",
    "2. **Code Organization:** Modules help in organizing your code logically. You can group related functions, classes, and variables together within a module. This improves code readability and maintainability.\n",
    "\n",
    "3. **Code Reusability:** Once you've defined functions or classes in a module, you can reuse them in other parts of your program by importing the module. This promotes code reuse and avoids redundancy.\n",
    "\n",
    "4. **Namespace Isolation:** Modules provide a way to create separate namespaces for different parts of your program. This helps in avoiding naming conflicts between variables, functions, or classes defined in different modules."
   ]
  },
  {
   "cell_type": "code",
   "execution_count": 1,
   "metadata": {},
   "outputs": [
    {
     "name": "stdout",
     "output_type": "stream",
     "text": [
      "['/usr/local/lib/python3.12/site-packages/ipykernel_launcher.py', '--f=/root/.local/share/jupyter/runtime/kernel-v2-235SwjPLMqKhcRt.json']\n"
     ]
    }
   ],
   "source": [
    "import sys\n",
    "\n",
    "print(sys.argv)"
   ]
  },
  {
   "cell_type": "markdown",
   "metadata": {},
   "source": [
    "# utils.py\n",
    "\n",
    "```python\n",
    "def say_twice(word):\n",
    "    return (word + '!') * 2\n",
    "```"
   ]
  },
  {
   "cell_type": "code",
   "execution_count": 3,
   "metadata": {},
   "outputs": [
    {
     "name": "stdout",
     "output_type": "stream",
     "text": [
      "hello!hello!\n"
     ]
    }
   ],
   "source": [
    "import utils\n",
    "\n",
    "print(utils.say_twice('hello'))"
   ]
  },
  {
   "cell_type": "code",
   "execution_count": 4,
   "metadata": {},
   "outputs": [
    {
     "name": "stdout",
     "output_type": "stream",
     "text": [
      "Python!Python!\n"
     ]
    }
   ],
   "source": [
    "import utils as my_util\n",
    "\n",
    "print(my_util.say_twice('Python'))"
   ]
  },
  {
   "cell_type": "markdown",
   "metadata": {},
   "source": [
    "## builtins\n",
    "\n",
    "- [Built-in Functions](https://docs.python.org/3/library/functions.html)"
   ]
  },
  {
   "cell_type": "code",
   "execution_count": 10,
   "metadata": {},
   "outputs": [
    {
     "name": "stdout",
     "output_type": "stream",
     "text": [
      "{'__name__': '__main__', '__doc__': 'Automatically created module for IPython interactive environment', '__package__': None, '__loader__': None, '__spec__': None, '__builtin__': <module 'builtins' (built-in)>, '__builtins__': <module 'builtins' (built-in)>, '_ih': ['', 'import sys\\n\\nprint(sys.argv)', 'import utils\\n\\nprint(utils.say_twice(hello))', \"import utils\\n\\nprint(utils.say_twice('hello'))\", \"import utils as my_util\\n\\nprint(my_util.say_twice('Python'))\", 'print(globals())', 'print(type(globals()))', 'print(d in globals())', 'for key, value in globals().items:\\n    print(key, value)', 'for key, value in globals().items():\\n    print(key, value)', 'print(globals())'], '_oh': {}, '_dh': [PosixPath('/workspace/works'), PosixPath('/workspace/works')], 'In': ['', 'import sys\\n\\nprint(sys.argv)', 'import utils\\n\\nprint(utils.say_twice(hello))', \"import utils\\n\\nprint(utils.say_twice('hello'))\", \"import utils as my_util\\n\\nprint(my_util.say_twice('Python'))\", 'print(globals())', 'print(type(globals()))', 'print(d in globals())', 'for key, value in globals().items:\\n    print(key, value)', 'for key, value in globals().items():\\n    print(key, value)', 'print(globals())'], 'Out': {}, 'get_ipython': <bound method InteractiveShell.get_ipython of <ipykernel.zmqshell.ZMQInteractiveShell object at 0x7f36b37e2570>>, 'exit': <IPython.core.autocall.ZMQExitAutocall object at 0x7f36b3825850>, 'quit': <IPython.core.autocall.ZMQExitAutocall object at 0x7f36b3825850>, 'open': <function open at 0x7f36b48abe20>, '_': '', '__': '', '___': '', '__vsc_ipynb_file__': '/workspace/works/Day005.ipynb', '_i': 'for key, value in globals().items():\\n    print(key, value)', '_ii': 'for key, value in globals().items:\\n    print(key, value)', '_iii': 'print(d in globals())', '_i1': 'import sys\\n\\nprint(sys.argv)', 'sys': <module 'sys' (built-in)>, '_i2': 'import utils\\n\\nprint(utils.say_twice(hello))', 'utils': <module 'utils' from '/workspace/works/utils.py'>, '_i3': \"import utils\\n\\nprint(utils.say_twice('hello'))\", '_i4': \"import utils as my_util\\n\\nprint(my_util.say_twice('Python'))\", 'my_util': <module 'utils' from '/workspace/works/utils.py'>, '_i5': 'print(globals())', '_i6': 'print(type(globals()))', '_i7': 'print(d in globals())', '_i8': 'for key, value in globals().items:\\n    print(key, value)', '_i9': 'for key, value in globals().items():\\n    print(key, value)', 'key': '__name__', 'value': '__main__', '_i10': 'print(globals())'}\n"
     ]
    }
   ],
   "source": [
    "print(globals())"
   ]
  },
  {
   "cell_type": "markdown",
   "metadata": {},
   "source": [
    "## 3rd Party Library\n",
    "\n",
    "Added `termcolor`\n",
    "\n",
    "```dockerfile\n",
    "# Install Basic Packages\n",
    "RUN pip install ipykernel jupyter termcolor\n",
    "```"
   ]
  },
  {
   "cell_type": "code",
   "execution_count": 4,
   "metadata": {},
   "outputs": [
    {
     "name": "stdout",
     "output_type": "stream",
     "text": [
      "\u001b[31mHello\u001b[0m\n",
      "\u001b[34mPython\u001b[0m\n",
      "Help on function colored in module termcolor.termcolor:\n",
      "\n",
      "colored(text: 'object', color: 'Color | None' = None, on_color: 'Highlight | None' = None, attrs: 'Iterable[Attribute] | None' = None, *, no_color: 'bool | None' = None, force_color: 'bool | None' = None) -> 'str'\n",
      "    Colorize text.\n",
      "\n",
      "    Available text colors:\n",
      "        black, red, green, yellow, blue, magenta, cyan, white,\n",
      "        light_grey, dark_grey, light_red, light_green, light_yellow, light_blue,\n",
      "        light_magenta, light_cyan.\n",
      "\n",
      "    Available text highlights:\n",
      "        on_black, on_red, on_green, on_yellow, on_blue, on_magenta, on_cyan, on_white,\n",
      "        on_light_grey, on_dark_grey, on_light_red, on_light_green, on_light_yellow,\n",
      "        on_light_blue, on_light_magenta, on_light_cyan.\n",
      "\n",
      "    Available attributes:\n",
      "        bold, dark, underline, blink, reverse, concealed.\n",
      "\n",
      "    Example:\n",
      "        colored('Hello, World!', 'red', 'on_black', ['bold', 'blink'])\n",
      "        colored('Hello, World!', 'green')\n",
      "\n",
      "None\n"
     ]
    }
   ],
   "source": [
    "from termcolor import colored\n",
    "\n",
    "print(colored('Hello', 'red'))\n",
    "print(colored('Python', 'blue'))\n",
    "print(help(colored))"
   ]
  }
 ],
 "metadata": {
  "kernelspec": {
   "display_name": "Python 3",
   "language": "python",
   "name": "python3"
  },
  "language_info": {
   "codemirror_mode": {
    "name": "ipython",
    "version": 3
   },
   "file_extension": ".py",
   "mimetype": "text/x-python",
   "name": "python",
   "nbconvert_exporter": "python",
   "pygments_lexer": "ipython3",
   "version": "3.12.1"
  }
 },
 "nbformat": 4,
 "nbformat_minor": 2
}
