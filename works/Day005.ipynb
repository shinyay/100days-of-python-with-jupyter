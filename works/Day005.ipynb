{
 "cells": [
  {
   "cell_type": "code",
   "execution_count": null,
   "metadata": {},
   "outputs": [],
   "source": [
    "# Day 5 - Module and Package"
   ]
  },
  {
   "cell_type": "code",
   "execution_count": 1,
   "metadata": {},
   "outputs": [
    {
     "name": "stdout",
     "output_type": "stream",
     "text": [
      "['/usr/local/lib/python3.12/site-packages/ipykernel_launcher.py', '--f=/root/.local/share/jupyter/runtime/kernel-v2-235SwjPLMqKhcRt.json']\n"
     ]
    }
   ],
   "source": [
    "import sys\n",
    "\n",
    "print(sys.argv)"
   ]
  },
  {
   "cell_type": "markdown",
   "metadata": {},
   "source": [
    "# utils.py\n",
    "\n",
    "```python\n",
    "def say_twice(word):\n",
    "    return (word + '!') * 2\n",
    "```"
   ]
  },
  {
   "cell_type": "code",
   "execution_count": 3,
   "metadata": {},
   "outputs": [
    {
     "name": "stdout",
     "output_type": "stream",
     "text": [
      "hello!hello!\n"
     ]
    }
   ],
   "source": [
    "import utils\n",
    "\n",
    "print(utils.say_twice('hello'))"
   ]
  },
  {
   "cell_type": "code",
   "execution_count": 4,
   "metadata": {},
   "outputs": [
    {
     "name": "stdout",
     "output_type": "stream",
     "text": [
      "Python!Python!\n"
     ]
    }
   ],
   "source": [
    "import utils as my_util\n",
    "\n",
    "print(my_util.say_twice('Python'))"
   ]
  },
  {
   "cell_type": "markdown",
   "metadata": {},
   "source": [
    "## builtins\n",
    "\n",
    "- [Built-in Functions](https://docs.python.org/3/library/functions.html)"
   ]
  },
  {
   "cell_type": "code",
   "execution_count": 10,
   "metadata": {},
   "outputs": [
    {
     "name": "stdout",
     "output_type": "stream",
     "text": [
      "{'__name__': '__main__', '__doc__': 'Automatically created module for IPython interactive environment', '__package__': None, '__loader__': None, '__spec__': None, '__builtin__': <module 'builtins' (built-in)>, '__builtins__': <module 'builtins' (built-in)>, '_ih': ['', 'import sys\\n\\nprint(sys.argv)', 'import utils\\n\\nprint(utils.say_twice(hello))', \"import utils\\n\\nprint(utils.say_twice('hello'))\", \"import utils as my_util\\n\\nprint(my_util.say_twice('Python'))\", 'print(globals())', 'print(type(globals()))', 'print(d in globals())', 'for key, value in globals().items:\\n    print(key, value)', 'for key, value in globals().items():\\n    print(key, value)', 'print(globals())'], '_oh': {}, '_dh': [PosixPath('/workspace/works'), PosixPath('/workspace/works')], 'In': ['', 'import sys\\n\\nprint(sys.argv)', 'import utils\\n\\nprint(utils.say_twice(hello))', \"import utils\\n\\nprint(utils.say_twice('hello'))\", \"import utils as my_util\\n\\nprint(my_util.say_twice('Python'))\", 'print(globals())', 'print(type(globals()))', 'print(d in globals())', 'for key, value in globals().items:\\n    print(key, value)', 'for key, value in globals().items():\\n    print(key, value)', 'print(globals())'], 'Out': {}, 'get_ipython': <bound method InteractiveShell.get_ipython of <ipykernel.zmqshell.ZMQInteractiveShell object at 0x7f36b37e2570>>, 'exit': <IPython.core.autocall.ZMQExitAutocall object at 0x7f36b3825850>, 'quit': <IPython.core.autocall.ZMQExitAutocall object at 0x7f36b3825850>, 'open': <function open at 0x7f36b48abe20>, '_': '', '__': '', '___': '', '__vsc_ipynb_file__': '/workspace/works/Day005.ipynb', '_i': 'for key, value in globals().items():\\n    print(key, value)', '_ii': 'for key, value in globals().items:\\n    print(key, value)', '_iii': 'print(d in globals())', '_i1': 'import sys\\n\\nprint(sys.argv)', 'sys': <module 'sys' (built-in)>, '_i2': 'import utils\\n\\nprint(utils.say_twice(hello))', 'utils': <module 'utils' from '/workspace/works/utils.py'>, '_i3': \"import utils\\n\\nprint(utils.say_twice('hello'))\", '_i4': \"import utils as my_util\\n\\nprint(my_util.say_twice('Python'))\", 'my_util': <module 'utils' from '/workspace/works/utils.py'>, '_i5': 'print(globals())', '_i6': 'print(type(globals()))', '_i7': 'print(d in globals())', '_i8': 'for key, value in globals().items:\\n    print(key, value)', '_i9': 'for key, value in globals().items():\\n    print(key, value)', 'key': '__name__', 'value': '__main__', '_i10': 'print(globals())'}\n"
     ]
    }
   ],
   "source": [
    "print(globals())"
   ]
  }
 ],
 "metadata": {
  "kernelspec": {
   "display_name": "Python 3",
   "language": "python",
   "name": "python3"
  },
  "language_info": {
   "codemirror_mode": {
    "name": "ipython",
    "version": 3
   },
   "file_extension": ".py",
   "mimetype": "text/x-python",
   "name": "python",
   "nbconvert_exporter": "python",
   "pygments_lexer": "ipython3",
   "version": "3.12.1"
  }
 },
 "nbformat": 4,
 "nbformat_minor": 2
}
