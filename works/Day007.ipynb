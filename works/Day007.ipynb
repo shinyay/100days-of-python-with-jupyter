{
 "cells": [
  {
   "cell_type": "markdown",
   "metadata": {},
   "source": [
    "# Day 7 - File and System\n",
    "\n",
    "Operating with files in Python involves tasks such as opening, reading, writing, and closing files. Python provides built-in functions and methods to perform these file operations."
   ]
  }
 ],
 "metadata": {
  "language_info": {
   "name": "python"
  }
 },
 "nbformat": 4,
 "nbformat_minor": 2
}
