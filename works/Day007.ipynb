{
 "cells": [
  {
   "cell_type": "markdown",
   "metadata": {},
   "source": [
    "# Day 7 - File and System\n",
    "\n",
    "Operating with files in Python involves tasks such as opening, reading, writing, and closing files. Python provides built-in functions and methods to perform these file operations."
   ]
  },
  {
   "cell_type": "code",
   "execution_count": 1,
   "metadata": {},
   "outputs": [],
   "source": [
    "f = open('Day007/day007.txt', 'w')\n",
    "f.write('Hello')\n",
    "f.close()"
   ]
  },
  {
   "cell_type": "markdown",
   "metadata": {},
   "source": [
    "\n",
    "The `with` statement in Python is used to simplify the management of resources, such as files, by providing a convenient way to handle setup and cleanup operations. When it comes to file operations, the `with` statement is commonly used to open and automatically close files."
   ]
  },
  {
   "cell_type": "code",
   "execution_count": 8,
   "metadata": {},
   "outputs": [],
   "source": [
    "text = \"\"\"\n",
    "Hello\n",
    "Python\n",
    "\"\"\"\n",
    "with open('Day007/day007.txt', 'w') as f:\n",
    "    f.write(text)"
   ]
  },
  {
   "cell_type": "code",
   "execution_count": 6,
   "metadata": {},
   "outputs": [
    {
     "name": "stdout",
     "output_type": "stream",
     "text": [
      "Python\n"
     ]
    }
   ],
   "source": [
    "with open('Day007/day007.txt', 'r') as f:\n",
    "    print(f.read())"
   ]
  },
  {
   "cell_type": "code",
   "execution_count": 9,
   "metadata": {},
   "outputs": [
    {
     "name": "stdout",
     "output_type": "stream",
     "text": [
      "\n",
      "Hello\n",
      "Python\n"
     ]
    }
   ],
   "source": [
    "with open('Day007/day007.txt', 'r') as f:\n",
    "    while True:\n",
    "        line = f.readline()\n",
    "        print(line, end='')\n",
    "        if not line:\n",
    "            break"
   ]
  },
  {
   "cell_type": "markdown",
   "metadata": {},
   "source": [
    "The `tell()` method is a method associated with file objects that allows you to determine the current position (or offset) of the file cursor within the file. The file cursor represents the location in the file where the next read or write operation will occur."
   ]
  },
  {
   "cell_type": "code",
   "execution_count": 8,
   "metadata": {},
   "outputs": [
    {
     "name": "stdout",
     "output_type": "stream",
     "text": [
      "0\n",
      "\n",
      "H\n",
      "el\n",
      "lo\n",
      "\n"
     ]
    }
   ],
   "source": [
    "with open('Day007/day007.txt', 'r') as f:\n",
    "    print(f.tell())\n",
    "    print(f.read(0))\n",
    "    print(f.read(1))\n",
    "    print(f.read(2))\n",
    "    print(f.read(3))"
   ]
  },
  {
   "cell_type": "markdown",
   "metadata": {},
   "source": [
    "The `seek()` method is a method associated with file objects that allows you to change the current position of the file cursor within the file. The file cursor represents the location in the file where the next read or write operation will occur.\n",
    "\n",
    "```python\n",
    "file.seek(offset, whence=0)\n",
    "```\n",
    "\n",
    "- `offset`: The number of bytes to move the cursor. A positive value moves the cursor forward, and a negative value moves it backward.\n",
    "- `whence`: Optional parameter that specifies the reference position for the offset. It can take one of the following values:\n",
    "  - `0`(default): The offset is relative to the beginning of the file.\n",
    "  - `1`: The offset is relative to the current position of the file cursor.\n",
    "  - `2`: The offset is relative to the end of the file."
   ]
  },
  {
   "cell_type": "code",
   "execution_count": 11,
   "metadata": {},
   "outputs": [
    {
     "name": "stdout",
     "output_type": "stream",
     "text": [
      "0\n",
      "\n",
      "l\n"
     ]
    }
   ],
   "source": [
    "with open('Day007/day007.txt', 'r') as f:\n",
    "    print(f.tell())\n",
    "    f.seek(2)\n",
    "    print(f.read(0))\n",
    "    print(f.read(1))\n",
    "    print(f.read(2))"
   ]
  },
  {
   "cell_type": "markdown",
   "metadata": {},
   "source": [
    "Python has a `string` module that includes a `Template` class for simplified string substitution. This is not directly related to file operations, but it allows you to create template strings with placeholders for later substitution."
   ]
  },
  {
   "cell_type": "code",
   "execution_count": 2,
   "metadata": {},
   "outputs": [
    {
     "name": "stdout",
     "output_type": "stream",
     "text": [
      "\n",
      "Hello Python,\n",
      "I'm studying Python now\n",
      "Have a nice day!\n",
      "\n",
      "\n",
      "Hello Kotlin,\n",
      "I'm studying Python now\n",
      "Have a nice day!\n",
      "\n"
     ]
    }
   ],
   "source": [
    "import string\n",
    "\n",
    "str = \"\"\"\n",
    "Hello $name,\n",
    "$body\n",
    "Have a nice day!\n",
    "\"\"\"\n",
    "\n",
    "tmpl = string.Template(str)\n",
    "print(tmpl.substitute(name='Python', body='I\\'m studying Python now'))\n",
    "print(tmpl.substitute(name='Kotlin', body='I\\'m studying Python now'))"
   ]
  }
 ],
 "metadata": {
  "kernelspec": {
   "display_name": "Python 3",
   "language": "python",
   "name": "python3"
  },
  "language_info": {
   "codemirror_mode": {
    "name": "ipython",
    "version": 3
   },
   "file_extension": ".py",
   "mimetype": "text/x-python",
   "name": "python",
   "nbconvert_exporter": "python",
   "pygments_lexer": "ipython3",
   "version": "3.12.1"
  }
 },
 "nbformat": 4,
 "nbformat_minor": 2
}
