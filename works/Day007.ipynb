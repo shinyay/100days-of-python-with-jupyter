{
 "cells": [
  {
   "cell_type": "markdown",
   "metadata": {},
   "source": [
    "# Day 7 - File and System\n",
    "\n",
    "Operating with files in Python involves tasks such as opening, reading, writing, and closing files. Python provides built-in functions and methods to perform these file operations."
   ]
  },
  {
   "cell_type": "code",
   "execution_count": 1,
   "metadata": {},
   "outputs": [],
   "source": [
    "f = open('Day007/day007.txt', 'w')\n",
    "f.write('Hello')\n",
    "f.close()"
   ]
  },
  {
   "cell_type": "markdown",
   "metadata": {},
   "source": [
    "\n",
    "The `with` statement in Python is used to simplify the management of resources, such as files, by providing a convenient way to handle setup and cleanup operations. When it comes to file operations, the `with` statement is commonly used to open and automatically close files."
   ]
  },
  {
   "cell_type": "code",
   "execution_count": 8,
   "metadata": {},
   "outputs": [],
   "source": [
    "text = \"\"\"\n",
    "Hello\n",
    "Python\n",
    "\"\"\"\n",
    "with open('Day007/day007.txt', 'w') as f:\n",
    "    f.write(text)"
   ]
  },
  {
   "cell_type": "code",
   "execution_count": 6,
   "metadata": {},
   "outputs": [
    {
     "name": "stdout",
     "output_type": "stream",
     "text": [
      "Python\n"
     ]
    }
   ],
   "source": [
    "with open('Day007/day007.txt', 'r') as f:\n",
    "    print(f.read())"
   ]
  },
  {
   "cell_type": "code",
   "execution_count": 9,
   "metadata": {},
   "outputs": [
    {
     "name": "stdout",
     "output_type": "stream",
     "text": [
      "\n",
      "Hello\n",
      "Python\n"
     ]
    }
   ],
   "source": [
    "with open('Day007/day007.txt', 'r') as f:\n",
    "    while True:\n",
    "        line = f.readline()\n",
    "        print(line, end='')\n",
    "        if not line:\n",
    "            break"
   ]
  },
  {
   "cell_type": "markdown",
   "metadata": {},
   "source": [
    "The `tell()` method is a method associated with file objects that allows you to determine the current position (or offset) of the file cursor within the file. The file cursor represents the location in the file where the next read or write operation will occur."
   ]
  },
  {
   "cell_type": "code",
   "execution_count": 8,
   "metadata": {},
   "outputs": [
    {
     "name": "stdout",
     "output_type": "stream",
     "text": [
      "0\n",
      "\n",
      "H\n",
      "el\n",
      "lo\n",
      "\n"
     ]
    }
   ],
   "source": [
    "with open('Day007/day007.txt', 'r') as f:\n",
    "    print(f.tell())\n",
    "    print(f.read(0))\n",
    "    print(f.read(1))\n",
    "    print(f.read(2))\n",
    "    print(f.read(3))"
   ]
  },
  {
   "cell_type": "markdown",
   "metadata": {},
   "source": [
    " The `seek()` method is a method associated with file objects that allows you to change the current position of the file cursor within the file. The file cursor represents the location in the file where the next read or write operation will occur.\n",
    "\n",
    " ```python\n",
    " file.seek(offset, whence=0)\n",
    " ```"
   ]
  },
  {
   "cell_type": "code",
   "execution_count": 11,
   "metadata": {},
   "outputs": [
    {
     "name": "stdout",
     "output_type": "stream",
     "text": [
      "0\n",
      "\n",
      "l\n"
     ]
    }
   ],
   "source": [
    "with open('Day007/day007.txt', 'r') as f:\n",
    "    print(f.tell())\n",
    "    f.seek(2)\n",
    "    print(f.read(0))\n",
    "    print(f.read(1))\n",
    "    print(f.read(2))"
   ]
  }
 ],
 "metadata": {
  "kernelspec": {
   "display_name": "Python 3",
   "language": "python",
   "name": "python3"
  },
  "language_info": {
   "codemirror_mode": {
    "name": "ipython",
    "version": 3
   },
   "file_extension": ".py",
   "mimetype": "text/x-python",
   "name": "python",
   "nbconvert_exporter": "python",
   "pygments_lexer": "ipython3",
   "version": "3.12.1"
  }
 },
 "nbformat": 4,
 "nbformat_minor": 2
}
