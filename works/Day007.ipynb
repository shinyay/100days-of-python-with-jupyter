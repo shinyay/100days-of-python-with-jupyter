{
 "cells": [
  {
   "cell_type": "markdown",
   "metadata": {},
   "source": [
    "# Day 7 - File and System\n",
    "\n",
    "Operating with files in Python involves tasks such as opening, reading, writing, and closing files. Python provides built-in functions and methods to perform these file operations."
   ]
  },
  {
   "cell_type": "code",
   "execution_count": 1,
   "metadata": {},
   "outputs": [],
   "source": [
    "f = open('Day007/day007.txt', 'w')\n",
    "f.write('Hello')\n",
    "f.close()"
   ]
  },
  {
   "cell_type": "markdown",
   "metadata": {},
   "source": [
    "\n",
    "The `with` statement in Python is used to simplify the management of resources, such as files, by providing a convenient way to handle setup and cleanup operations. When it comes to file operations, the `with` statement is commonly used to open and automatically close files."
   ]
  },
  {
   "cell_type": "code",
   "execution_count": 8,
   "metadata": {},
   "outputs": [],
   "source": [
    "text = \"\"\"\n",
    "Hello\n",
    "Python\n",
    "\"\"\"\n",
    "with open('Day007/day007.txt', 'w') as f:\n",
    "    f.write(text)"
   ]
  },
  {
   "cell_type": "code",
   "execution_count": 6,
   "metadata": {},
   "outputs": [
    {
     "name": "stdout",
     "output_type": "stream",
     "text": [
      "Python\n"
     ]
    }
   ],
   "source": [
    "with open('Day007/day007.txt', 'r') as f:\n",
    "    print(f.read())"
   ]
  },
  {
   "cell_type": "code",
   "execution_count": 9,
   "metadata": {},
   "outputs": [
    {
     "name": "stdout",
     "output_type": "stream",
     "text": [
      "\n",
      "Hello\n",
      "Python\n"
     ]
    }
   ],
   "source": [
    "with open('Day007/day007.txt', 'r') as f:\n",
    "    while True:\n",
    "        line = f.readline()\n",
    "        print(line, end='')\n",
    "        if not line:\n",
    "            break"
   ]
  },
  {
   "cell_type": "markdown",
   "metadata": {},
   "source": [
    "The `tell()` method is a method associated with file objects that allows you to determine the current position (or offset) of the file cursor within the file. The file cursor represents the location in the file where the next read or write operation will occur."
   ]
  },
  {
   "cell_type": "code",
   "execution_count": 8,
   "metadata": {},
   "outputs": [
    {
     "name": "stdout",
     "output_type": "stream",
     "text": [
      "0\n",
      "\n",
      "H\n",
      "el\n",
      "lo\n",
      "\n"
     ]
    }
   ],
   "source": [
    "with open('Day007/day007.txt', 'r') as f:\n",
    "    print(f.tell())\n",
    "    print(f.read(0))\n",
    "    print(f.read(1))\n",
    "    print(f.read(2))\n",
    "    print(f.read(3))"
   ]
  },
  {
   "cell_type": "markdown",
   "metadata": {},
   "source": [
    "The `seek()` method is a method associated with file objects that allows you to change the current position of the file cursor within the file. The file cursor represents the location in the file where the next read or write operation will occur.\n",
    "\n",
    "```python\n",
    "file.seek(offset, whence=0)\n",
    "```\n",
    "\n",
    "- `offset`: The number of bytes to move the cursor. A positive value moves the cursor forward, and a negative value moves it backward.\n",
    "- `whence`: Optional parameter that specifies the reference position for the offset. It can take one of the following values:\n",
    "  - `0`(default): The offset is relative to the beginning of the file.\n",
    "  - `1`: The offset is relative to the current position of the file cursor.\n",
    "  - `2`: The offset is relative to the end of the file."
   ]
  },
  {
   "cell_type": "code",
   "execution_count": 11,
   "metadata": {},
   "outputs": [
    {
     "name": "stdout",
     "output_type": "stream",
     "text": [
      "0\n",
      "\n",
      "l\n"
     ]
    }
   ],
   "source": [
    "with open('Day007/day007.txt', 'r') as f:\n",
    "    print(f.tell())\n",
    "    f.seek(2)\n",
    "    print(f.read(0))\n",
    "    print(f.read(1))\n",
    "    print(f.read(2))"
   ]
  },
  {
   "cell_type": "markdown",
   "metadata": {},
   "source": [
    "Python has a `string` module that includes a `Template` class for simplified string substitution. This is not directly related to file operations, but it allows you to create template strings with placeholders for later substitution."
   ]
  },
  {
   "cell_type": "code",
   "execution_count": 2,
   "metadata": {},
   "outputs": [
    {
     "name": "stdout",
     "output_type": "stream",
     "text": [
      "\n",
      "Hello Python,\n",
      "I'm studying Python now\n",
      "Have a nice day!\n",
      "\n",
      "\n",
      "Hello Kotlin,\n",
      "I'm studying Python now\n",
      "Have a nice day!\n",
      "\n"
     ]
    }
   ],
   "source": [
    "import string\n",
    "\n",
    "str = \"\"\"\n",
    "Hello $name,\n",
    "$body\n",
    "Have a nice day!\n",
    "\"\"\"\n",
    "\n",
    "tmpl = string.Template(str)\n",
    "print(tmpl.substitute(name='Python', body='I\\'m studying Python now'))\n",
    "print(tmpl.substitute(name='Kotlin', body='I\\'m studying Python now'))"
   ]
  },
  {
   "cell_type": "code",
   "execution_count": 3,
   "metadata": {},
   "outputs": [
    {
     "name": "stdout",
     "output_type": "stream",
     "text": [
      "Hello\n",
      "Python\n",
      "\n",
      "Hello Python,\n",
      "I'm studying Python now\n",
      "Have a nice day!\n"
     ]
    }
   ],
   "source": [
    "import string\n",
    "\n",
    "with open('Day007/day007.txt') as f:\n",
    "    tmpl = string.Template(f.read())\n",
    "    print(tmpl.substitute(name='Python', body='I\\'m studying Python now'))"
   ]
  },
  {
   "cell_type": "markdown",
   "metadata": {},
   "source": [
    "Operating with CSV (Comma-Separated Values) files in Python involves reading from or writing to files where data is organized in rows and columns with values separated by commas. Python provides a built-in module called `csv` that simplifies working with CSV files."
   ]
  },
  {
   "cell_type": "code",
   "execution_count": 6,
   "metadata": {},
   "outputs": [],
   "source": [
    "import csv\n",
    "\n",
    "data_to_write = [\n",
    "    ['Name', 'Age', 'City'],\n",
    "    ['Alice', 25, 'New York'],\n",
    "    ['Bob', 30, 'San Francisco'],\n",
    "]\n",
    "\n",
    "with open('Day007/output.csv', 'w', newline='') as csv_file:\n",
    "    csv_writer = csv.writer(csv_file)\n",
    "    \n",
    "    for row in data_to_write:\n",
    "        csv_writer.writerow(row)\n"
   ]
  },
  {
   "cell_type": "code",
   "execution_count": 14,
   "metadata": {},
   "outputs": [],
   "source": [
    "import csv\n",
    "\n",
    "field_name = ['Name', 'Age', 'City']\n",
    "data_to_write = [\n",
    "    {'Name': 'Bob', 'Age': 30, 'City': 'San Francisco'},\n",
    "    {'Name': 'Charlie', 'Age': 22, 'City': 'Chicago'},\n",
    "]\n",
    "\n",
    "with open('Day007/output2.csv', 'w', newline='') as csv_file:\n",
    "    writer = csv.DictWriter(csv_file, field_name)\n",
    "    writer.writeheader()\n",
    "    writer.writerow({'Name': 'Alice', 'Age': 25, 'City': 'New York'})\n",
    "    writer.writerows(data_to_write)"
   ]
  },
  {
   "cell_type": "markdown",
   "metadata": {},
   "source": [
    "The `tarfile` module provides functionality for working with tar archives. "
   ]
  },
  {
   "cell_type": "code",
   "execution_count": 27,
   "metadata": {},
   "outputs": [],
   "source": [
    "import tarfile\n",
    "import gzip\n",
    "\n",
    "with tarfile.open('Day007/test.tar.gz', 'w:gz') as tar:\n",
    "    tar.add('Day007/day007.txt')"
   ]
  },
  {
   "cell_type": "code",
   "execution_count": 32,
   "metadata": {},
   "outputs": [],
   "source": [
    "import tarfile\n",
    "import gzip\n",
    "\n",
    "with tarfile.open('Day007/test.tar.gz', 'r:gz') as tar:\n",
    "    tar.extractall('Day007') "
   ]
  },
  {
   "cell_type": "code",
   "execution_count": 34,
   "metadata": {},
   "outputs": [],
   "source": [
    "# Clean up\n",
    "import os\n",
    "if os.path.exists('Day007/Day007/day007.txt'):\n",
    "    os.remove('Day007/Day007/day007.txt')\n",
    "if os.path.exists('Day007/Day007'):\n",
    "    os.rmdir('Day007/Day007')\n",
    "if os.path.exists('Day007/test.tar.gz'):\n",
    "    os.remove('Day007/test.tar.gz')"
   ]
  },
  {
   "cell_type": "markdown",
   "metadata": {},
   "source": [
    "The `tempfile` module provides a simple and secure way to handle temporary files and directories, and it takes care of cleaning up the resources when they are no longer needed."
   ]
  },
  {
   "cell_type": "code",
   "execution_count": 52,
   "metadata": {},
   "outputs": [
    {
     "name": "stdout",
     "output_type": "stream",
     "text": [
      "Temporary file at:/tmp/tmp3yy1nf9y\n",
      "Content of the temporary file:\n",
      "Hello, this is a temporary file.\n"
     ]
    }
   ],
   "source": [
    "import tempfile\n",
    "\n",
    "with tempfile.NamedTemporaryFile(mode='w+', delete=False) as temp_file:\n",
    "    temp_file.write('Hello, this is a temporary file.')\n",
    "    temp_file_path = temp_file.name\n",
    "\n",
    "    temp_file.seek(0)\n",
    "\n",
    "    print(f'Temporary file at:{temp_file_path}')\n",
    "    print('Content of the temporary file:')\n",
    "    file_content = temp_file.read()\n",
    "    print(file_content)"
   ]
  },
  {
   "cell_type": "code",
   "execution_count": 54,
   "metadata": {},
   "outputs": [
    {
     "name": "stdout",
     "output_type": "stream",
     "text": [
      "Temporary file at:/tmp/tmpddy1cejn/temp_file.txt\n",
      "Temporary directory created at: /tmp/tmpddy1cejn\n"
     ]
    }
   ],
   "source": [
    "import tempfile\n",
    "import os\n",
    "\n",
    "with tempfile.TemporaryDirectory() as temp_dir:\n",
    "    temp_file_path = os.path.join(temp_dir, 'temp_file.txt')\n",
    "    \n",
    "    print(f'Temporary file at:{temp_file_path}')\n",
    "\n",
    "    with open(temp_file_path, 'w') as temp_file:\n",
    "        temp_file.write('Hello, this is a temporary file.')\n",
    "\n",
    "print(f'Temporary directory created at: {temp_dir}')\n"
   ]
  }
 ],
 "metadata": {
  "kernelspec": {
   "display_name": "Python 3",
   "language": "python",
   "name": "python3"
  },
  "language_info": {
   "codemirror_mode": {
    "name": "ipython",
    "version": 3
   },
   "file_extension": ".py",
   "mimetype": "text/x-python",
   "name": "python",
   "nbconvert_exporter": "python",
   "pygments_lexer": "ipython3",
   "version": "3.12.1"
  }
 },
 "nbformat": 4,
 "nbformat_minor": 2
}
