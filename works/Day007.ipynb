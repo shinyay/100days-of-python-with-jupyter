{
 "cells": [
  {
   "cell_type": "markdown",
   "metadata": {},
   "source": [
    "# Day 7 - File and System\n",
    "\n",
    "Operating with files in Python involves tasks such as opening, reading, writing, and closing files. Python provides built-in functions and methods to perform these file operations."
   ]
  },
  {
   "cell_type": "code",
   "execution_count": 1,
   "metadata": {},
   "outputs": [],
   "source": [
    "f = open('Day007/day007.txt', 'w')\n",
    "f.write('Hello')\n",
    "f.close()"
   ]
  },
  {
   "cell_type": "markdown",
   "metadata": {},
   "source": [
    "\n",
    "The `with` statement in Python is used to simplify the management of resources, such as files, by providing a convenient way to handle setup and cleanup operations. When it comes to file operations, the `with` statement is commonly used to open and automatically close files."
   ]
  },
  {
   "cell_type": "code",
   "execution_count": 8,
   "metadata": {},
   "outputs": [],
   "source": [
    "text = \"\"\"\n",
    "Hello\n",
    "Python\n",
    "\"\"\"\n",
    "with open('Day007/day007.txt', 'w') as f:\n",
    "    f.write(text)"
   ]
  },
  {
   "cell_type": "code",
   "execution_count": 6,
   "metadata": {},
   "outputs": [
    {
     "name": "stdout",
     "output_type": "stream",
     "text": [
      "Python\n"
     ]
    }
   ],
   "source": [
    "with open('Day007/day007.txt', 'r') as f:\n",
    "    print(f.read())"
   ]
  },
  {
   "cell_type": "code",
   "execution_count": 9,
   "metadata": {},
   "outputs": [
    {
     "name": "stdout",
     "output_type": "stream",
     "text": [
      "\n",
      "Hello\n",
      "Python\n"
     ]
    }
   ],
   "source": [
    "with open('Day007/day007.txt', 'r') as f:\n",
    "    while True:\n",
    "        line = f.readline()\n",
    "        print(line, end='')\n",
    "        if not line:\n",
    "            break"
   ]
  },
  {
   "cell_type": "markdown",
   "metadata": {},
   "source": [
    "The `tell()` method is a method associated with file objects that allows you to determine the current position (or offset) of the file cursor within the file. The file cursor represents the location in the file where the next read or write operation will occur."
   ]
  },
  {
   "cell_type": "code",
   "execution_count": 8,
   "metadata": {},
   "outputs": [
    {
     "name": "stdout",
     "output_type": "stream",
     "text": [
      "0\n",
      "\n",
      "H\n",
      "el\n",
      "lo\n",
      "\n"
     ]
    }
   ],
   "source": [
    "with open('Day007/day007.txt', 'r') as f:\n",
    "    print(f.tell())\n",
    "    print(f.read(0))\n",
    "    print(f.read(1))\n",
    "    print(f.read(2))\n",
    "    print(f.read(3))"
   ]
  },
  {
   "cell_type": "markdown",
   "metadata": {},
   "source": [
    "The `seek()` method is a method associated with file objects that allows you to change the current position of the file cursor within the file. The file cursor represents the location in the file where the next read or write operation will occur.\n",
    "\n",
    "```python\n",
    "file.seek(offset, whence=0)\n",
    "```\n",
    "\n",
    "- `offset`: The number of bytes to move the cursor. A positive value moves the cursor forward, and a negative value moves it backward.\n",
    "- `whence`: Optional parameter that specifies the reference position for the offset. It can take one of the following values:\n",
    "  - `0`(default): The offset is relative to the beginning of the file.\n",
    "  - `1`: The offset is relative to the current position of the file cursor.\n",
    "  - `2`: The offset is relative to the end of the file."
   ]
  },
  {
   "cell_type": "code",
   "execution_count": 11,
   "metadata": {},
   "outputs": [
    {
     "name": "stdout",
     "output_type": "stream",
     "text": [
      "0\n",
      "\n",
      "l\n"
     ]
    }
   ],
   "source": [
    "with open('Day007/day007.txt', 'r') as f:\n",
    "    print(f.tell())\n",
    "    f.seek(2)\n",
    "    print(f.read(0))\n",
    "    print(f.read(1))\n",
    "    print(f.read(2))"
   ]
  },
  {
   "cell_type": "markdown",
   "metadata": {},
   "source": [
    "Python has a `string` module that includes a `Template` class for simplified string substitution. This is not directly related to file operations, but it allows you to create template strings with placeholders for later substitution."
   ]
  },
  {
   "cell_type": "code",
   "execution_count": 2,
   "metadata": {},
   "outputs": [
    {
     "name": "stdout",
     "output_type": "stream",
     "text": [
      "\n",
      "Hello Python,\n",
      "I'm studying Python now\n",
      "Have a nice day!\n",
      "\n",
      "\n",
      "Hello Kotlin,\n",
      "I'm studying Python now\n",
      "Have a nice day!\n",
      "\n"
     ]
    }
   ],
   "source": [
    "import string\n",
    "\n",
    "str = \"\"\"\n",
    "Hello $name,\n",
    "$body\n",
    "Have a nice day!\n",
    "\"\"\"\n",
    "\n",
    "tmpl = string.Template(str)\n",
    "print(tmpl.substitute(name='Python', body='I\\'m studying Python now'))\n",
    "print(tmpl.substitute(name='Kotlin', body='I\\'m studying Python now'))"
   ]
  },
  {
   "cell_type": "code",
   "execution_count": 3,
   "metadata": {},
   "outputs": [
    {
     "name": "stdout",
     "output_type": "stream",
     "text": [
      "Hello\n",
      "Python\n",
      "\n",
      "Hello Python,\n",
      "I'm studying Python now\n",
      "Have a nice day!\n"
     ]
    }
   ],
   "source": [
    "import string\n",
    "\n",
    "with open('Day007/day007.txt') as f:\n",
    "    tmpl = string.Template(f.read())\n",
    "    print(tmpl.substitute(name='Python', body='I\\'m studying Python now'))"
   ]
  },
  {
   "cell_type": "markdown",
   "metadata": {},
   "source": [
    "Operating with CSV (Comma-Separated Values) files in Python involves reading from or writing to files where data is organized in rows and columns with values separated by commas. Python provides a built-in module called `csv` that simplifies working with CSV files."
   ]
  },
  {
   "cell_type": "code",
   "execution_count": 6,
   "metadata": {},
   "outputs": [],
   "source": [
    "import csv\n",
    "\n",
    "data_to_write = [\n",
    "    ['Name', 'Age', 'City'],\n",
    "    ['Alice', 25, 'New York'],\n",
    "    ['Bob', 30, 'San Francisco'],\n",
    "]\n",
    "\n",
    "with open('Day007/output.csv', 'w', newline='') as csv_file:\n",
    "    csv_writer = csv.writer(csv_file)\n",
    "    \n",
    "    for row in data_to_write:\n",
    "        csv_writer.writerow(row)\n"
   ]
  },
  {
   "cell_type": "code",
   "execution_count": 14,
   "metadata": {},
   "outputs": [],
   "source": [
    "import csv\n",
    "\n",
    "field_name = ['Name', 'Age', 'City']\n",
    "data_to_write = [\n",
    "    {'Name': 'Bob', 'Age': 30, 'City': 'San Francisco'},\n",
    "    {'Name': 'Charlie', 'Age': 22, 'City': 'Chicago'},\n",
    "]\n",
    "\n",
    "with open('Day007/output2.csv', 'w', newline='') as csv_file:\n",
    "    writer = csv.DictWriter(csv_file, field_name)\n",
    "    writer.writeheader()\n",
    "    writer.writerow({'Name': 'Alice', 'Age': 25, 'City': 'New York'})\n",
    "    writer.writerows(data_to_write)"
   ]
  },
  {
   "cell_type": "markdown",
   "metadata": {},
   "source": [
    "The `tarfile` module provides functionality for working with tar archives. "
   ]
  },
  {
   "cell_type": "code",
   "execution_count": 27,
   "metadata": {},
   "outputs": [],
   "source": [
    "import tarfile\n",
    "import gzip\n",
    "\n",
    "with tarfile.open('Day007/test.tar.gz', 'w:gz') as tar:\n",
    "    tar.add('Day007/day007.txt')"
   ]
  },
  {
   "cell_type": "code",
   "execution_count": 32,
   "metadata": {},
   "outputs": [],
   "source": [
    "import tarfile\n",
    "import gzip\n",
    "\n",
    "with tarfile.open('Day007/test.tar.gz', 'r:gz') as tar:\n",
    "    tar.extractall('Day007') "
   ]
  },
  {
   "cell_type": "code",
   "execution_count": 34,
   "metadata": {},
   "outputs": [],
   "source": [
    "# Clean up\n",
    "import os\n",
    "if os.path.exists('Day007/Day007/day007.txt'):\n",
    "    os.remove('Day007/Day007/day007.txt')\n",
    "if os.path.exists('Day007/Day007'):\n",
    "    os.rmdir('Day007/Day007')\n",
    "if os.path.exists('Day007/test.tar.gz'):\n",
    "    os.remove('Day007/test.tar.gz')"
   ]
  },
  {
   "cell_type": "markdown",
   "metadata": {},
   "source": [
    "The `tempfile` module provides a simple and secure way to handle temporary files and directories, and it takes care of cleaning up the resources when they are no longer needed."
   ]
  },
  {
   "cell_type": "code",
   "execution_count": 52,
   "metadata": {},
   "outputs": [
    {
     "name": "stdout",
     "output_type": "stream",
     "text": [
      "Temporary file at:/tmp/tmp3yy1nf9y\n",
      "Content of the temporary file:\n",
      "Hello, this is a temporary file.\n"
     ]
    }
   ],
   "source": [
    "import tempfile\n",
    "\n",
    "with tempfile.NamedTemporaryFile(mode='w+', delete=False) as temp_file:\n",
    "    temp_file.write('Hello, this is a temporary file.')\n",
    "    temp_file_path = temp_file.name\n",
    "\n",
    "    temp_file.seek(0)\n",
    "\n",
    "    print(f'Temporary file at:{temp_file_path}')\n",
    "    print('Content of the temporary file:')\n",
    "    file_content = temp_file.read()\n",
    "    print(file_content)"
   ]
  },
  {
   "cell_type": "markdown",
   "metadata": {},
   "source": [
    "`TemporaryDirectory` is used to create a temporary directory. "
   ]
  },
  {
   "cell_type": "code",
   "execution_count": 54,
   "metadata": {},
   "outputs": [
    {
     "name": "stdout",
     "output_type": "stream",
     "text": [
      "Temporary file at:/tmp/tmpddy1cejn/temp_file.txt\n",
      "Temporary directory created at: /tmp/tmpddy1cejn\n"
     ]
    }
   ],
   "source": [
    "import tempfile\n",
    "import os\n",
    "\n",
    "with tempfile.TemporaryDirectory() as temp_dir:\n",
    "    temp_file_path = os.path.join(temp_dir, 'temp_file.txt')\n",
    "    \n",
    "    print(f'Temporary file at:{temp_file_path}')\n",
    "\n",
    "    with open(temp_file_path, 'w') as temp_file:\n",
    "        temp_file.write('Hello, this is a temporary file.')\n",
    "\n",
    "print(f'Temporary directory created at: {temp_dir}')\n"
   ]
  },
  {
   "cell_type": "markdown",
   "metadata": {},
   "source": [
    "The `subprocess` module in Python provides a way to spawn new processes, connect to their input/output/error pipes, and obtain their return codes. It allows you to interact with the system shell, execute external commands, and manage input/output streams with those commands."
   ]
  },
  {
   "cell_type": "code",
   "execution_count": 58,
   "metadata": {},
   "outputs": [
    {
     "name": "stdout",
     "output_type": "stream",
     "text": [
      "total 128\n",
      "-rw-r--r-- 1 root root 18682 Jan 16 04:43 Day001.ipynb\n",
      "-rw-r--r-- 1 root root 16554 Jan 16 04:42 Day002.ipynb\n",
      "-rw-r--r-- 1 1000 1000  7831 Jan 16 04:42 Day003.ipynb\n",
      "-rw-r--r-- 1 root root 12509 Jan 16 04:42 Day004.ipynb\n",
      "-rw-r--r-- 1 root root  9069 Jan 17 11:04 Day005.ipynb\n",
      "-rw-r--r-- 1 root root 26160 Jan 18 09:28 Day006.ipynb\n",
      "drwxr-xr-x 2 root root  4096 Jan 20 07:57 Day007\n",
      "-rw-r--r-- 1 root root 12213 Jan 20 08:43 Day007.ipynb\n",
      "drwxr-xr-x 2 root root  4096 Jan 16 04:48 __pycache__\n",
      "-rw-r--r-- 1 root root    48 Jan 16 04:47 utils.py\n",
      "\n"
     ]
    }
   ],
   "source": [
    "import subprocess\n",
    "\n",
    "result = subprocess.run([\"ls\", \"-l\"], stdout=subprocess.PIPE, text=True)\n",
    "print(result.stdout)\n"
   ]
  },
  {
   "cell_type": "code",
   "execution_count": 60,
   "metadata": {},
   "outputs": [
    {
     "name": "stdout",
     "output_type": "stream",
     "text": [
      "total 336\n",
      "drwxr-xr-x 2 root root  4096 Jan 17 07:12 devcontainers-073a2b7b-3964-4fd2-834a-3adf6b64951c1705475523337\n",
      "drwxr-xr-x 2 root root  4096 Jan 19 14:02 devcontainers-0a35d71f-ecbb-4f2a-8c48-7fbee47b87571705672941364\n",
      "drwxr-xr-x 2 root root  4096 Jan 17 07:12 devcontainers-7aa306e4-15a6-482f-a59d-e16eb0f09fab1705475557560\n",
      "drwxr-xr-x 2 root root  4096 Jan 20 04:34 devcontainers-8254648c-116a-44ce-8976-d537d3d103d71705725246155\n",
      "drwxr-xr-x 2 root root  4096 Jan 18 07:59 devcontainers-aef00668-efe8-412e-83e4-71b4a91701841705564736145\n",
      "drwx------ 2 root root  4096 Jan 20 08:46 pyright-323-90tQUEEPXXWa\n",
      "drwxr-xr-x 3 root root  4096 Jan 20 04:34 python-languageserver-cancellation\n",
      "-rw------- 1 root root    31 Jan 20 08:36 tmp0_x8q93g\n",
      "-rw------- 1 root root     0 Jan 20 08:31 tmp2g1slvkg\n",
      "-rw------- 1 root root    32 Jan 20 08:36 tmp3yy1nf9y\n",
      "-rw------- 1 root root    32 Jan 20 08:35 tmp5aa1lwit\n",
      "-rw------- 1 root root    32 Jan 20 08:33 tmp6pqmp6h6\n",
      "-rw------- 1 root root     0 Jan 20 08:07 tmp79mqb20m\n",
      "-rw------- 1 root root    32 Jan 20 08:34 tmp_zgcq8ea\n",
      "-rw------- 1 root root    32 Jan 20 08:36 tmpfgtkhe4y\n",
      "-rw------- 1 root root    32 Jan 20 08:34 tmpfi8lsi84\n",
      "-rw------- 1 root root    32 Jan 20 08:31 tmpfp9g1tny\n",
      "-rw------- 1 root root    32 Jan 20 08:34 tmplk872qpk\n",
      "-rw------- 1 root root     0 Jan 20 08:36 tmpo8g8onuz\n",
      "-rw------- 1 root root    32 Jan 20 08:35 tmppzacoktn\n",
      "-rw------- 1 root root    32 Jan 20 08:08 tmptv0iehbs\n",
      "-rw------- 1 root root    32 Jan 20 08:35 tmput99kfgh\n",
      "-rw------- 1 root root    32 Jan 20 08:34 tmpvalcopjz\n",
      "-rw------- 1 root root    32 Jan 20 08:33 tmpw0ywt1dd\n",
      "-rw------- 1 root root    32 Jan 20 08:35 tmpx3xovxxz\n",
      "drwx------ 3 root root  4096 Jan 17 07:12 user\n",
      "-rw-r--r-- 1 root root  2071 Jan 19 14:02 vscode-remote-containers-0cbd0ec6-ea63-4a76-a739-22fc0ca56938.js\n",
      "-rw-r--r-- 1 root root  2071 Jan 17 07:12 vscode-remote-containers-567dfb24-c2ed-481b-828e-1b2fef6da960.js\n",
      "-rw-r--r-- 1 root root  2071 Jan 18 07:59 vscode-remote-containers-a01db062-6f61-4118-8fe5-9b1296cff746.js\n",
      "-rw-r--r-- 1 root root  2071 Jan 17 07:12 vscode-remote-containers-ba5872f4-7488-48fe-a08e-b56c2495801e.js\n",
      "-rw-r--r-- 1 root root  2071 Jan 20 04:34 vscode-remote-containers-e7c1a110-3c68-4f68-9079-7601743d3268.js\n",
      "srwxr-xr-x 1 root root     0 Jan 19 14:02 vscode-remote-containers-ipc-0cbd0ec6-ea63-4a76-a739-22fc0ca56938.sock\n",
      "srwxr-xr-x 1 root root     0 Jan 17 07:12 vscode-remote-containers-ipc-567dfb24-c2ed-481b-828e-1b2fef6da960.sock\n",
      "srwxr-xr-x 1 root root     0 Jan 18 07:59 vscode-remote-containers-ipc-a01db062-6f61-4118-8fe5-9b1296cff746.sock\n",
      "srwxr-xr-x 1 root root     0 Jan 17 07:12 vscode-remote-containers-ipc-ba5872f4-7488-48fe-a08e-b56c2495801e.sock\n",
      "srwxr-xr-x 1 root root     0 Jan 20 04:34 vscode-remote-containers-ipc-e7c1a110-3c68-4f68-9079-7601743d3268.sock\n",
      "-rw-r--r-- 1 root root 42296 Jan 19 14:02 vscode-remote-containers-server-0cbd0ec6-ea63-4a76-a739-22fc0ca56938.js\n",
      "-rw-r--r-- 1 root root 42296 Jan 17 07:12 vscode-remote-containers-server-567dfb24-c2ed-481b-828e-1b2fef6da960.js\n",
      "-rw-r--r-- 1 root root 42296 Jan 18 07:59 vscode-remote-containers-server-a01db062-6f61-4118-8fe5-9b1296cff746.js\n",
      "-rw-r--r-- 1 root root 42296 Jan 17 07:12 vscode-remote-containers-server-ba5872f4-7488-48fe-a08e-b56c2495801e.js\n",
      "-rw-r--r-- 1 root root 42296 Jan 20 04:34 vscode-remote-containers-server-e7c1a110-3c68-4f68-9079-7601743d3268.js\n",
      "srwxr-xr-x 1 root root     0 Jan 19 14:02 vscode-ssh-auth-0cbd0ec6-ea63-4a76-a739-22fc0ca56938.sock\n",
      "srwxr-xr-x 1 root root     0 Jan 17 07:12 vscode-ssh-auth-567dfb24-c2ed-481b-828e-1b2fef6da960.sock\n",
      "srwxr-xr-x 1 root root     0 Jan 18 07:59 vscode-ssh-auth-a01db062-6f61-4118-8fe5-9b1296cff746.sock\n",
      "srwxr-xr-x 1 root root     0 Jan 17 07:12 vscode-ssh-auth-ba5872f4-7488-48fe-a08e-b56c2495801e.sock\n",
      "srwxr-xr-x 1 root root     0 Jan 20 04:34 vscode-ssh-auth-e7c1a110-3c68-4f68-9079-7601743d3268.sock\n",
      "drwxr-xr-x 2 root root  4096 Jan 19 14:16 vscode-typescript0\n",
      "srwxrwxrwx 1 1000 1000     0 Jan 20 04:32 vscode-wayland-627bbdc8-fda5-41da-96ae-8bbb816aadd5.sock\n",
      "\n"
     ]
    }
   ],
   "source": [
    "import subprocess\n",
    "\n",
    "result = subprocess.run(\"ls -l /tmp\", shell=True, stdout=subprocess.PIPE, text=True)\n",
    "print(result.stdout)\n"
   ]
  }
 ],
 "metadata": {
  "kernelspec": {
   "display_name": "Python 3",
   "language": "python",
   "name": "python3"
  },
  "language_info": {
   "codemirror_mode": {
    "name": "ipython",
    "version": 3
   },
   "file_extension": ".py",
   "mimetype": "text/x-python",
   "name": "python",
   "nbconvert_exporter": "python",
   "pygments_lexer": "ipython3",
   "version": "3.12.1"
  }
 },
 "nbformat": 4,
 "nbformat_minor": 2
}
