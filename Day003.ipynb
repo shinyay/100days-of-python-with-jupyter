{
 "cells": [
  {
   "cell_type": "markdown",
   "metadata": {},
   "source": [
    "# Day 3\n",
    "Control Flow"
   ]
  },
  {
   "cell_type": "markdown",
   "metadata": {},
   "source": [
    "## Tips\n",
    "> Split lines that are too long\n",
    "\n",
    "Python code style dictates that each line should be 80 characters long; if it is longer than 80 characters, you should switch to the next line."
   ]
  }
 ],
 "metadata": {
  "language_info": {
   "name": "python"
  }
 },
 "nbformat": 4,
 "nbformat_minor": 2
}
